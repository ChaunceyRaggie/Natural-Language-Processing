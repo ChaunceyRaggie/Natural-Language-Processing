{
 "cells": [
  {
   "cell_type": "code",
   "execution_count": 1,
   "metadata": {
    "collapsed": true
   },
   "outputs": [],
   "source": [
    "## Importing necessary Libraries \n",
    "import pandas as pd\n",
    "import numpy as np\n",
    "import seaborn as sns\n",
    "import matplotlib.pyplot as plt\n",
    "%matplotlib inline\n",
    "import json"
   ]
  },
  {
   "cell_type": "code",
   "execution_count": 4,
   "metadata": {
    "collapsed": true
   },
   "outputs": [],
   "source": [
    "# This code reads in baby products data retrieved from: http://jmcauley.ucsd.edu/data/amazon/ \n",
    "#citation: \"Image-based recommendations on styles and substitutes\" J. McAuley, C. Targett, J. Shi, A. van den Hengel, SIGIR, 2015\n",
    "\n",
    "Baby_Products = pd.read_json('C:/Users/Chauncey/Baby_5.json', lines=True)\n",
    "\n"
   ]
  },
  {
   "cell_type": "code",
   "execution_count": 6,
   "metadata": {},
   "outputs": [
    {
     "data": {
      "text/html": [
       "<div>\n",
       "<style>\n",
       "    .dataframe thead tr:only-child th {\n",
       "        text-align: right;\n",
       "    }\n",
       "\n",
       "    .dataframe thead th {\n",
       "        text-align: left;\n",
       "    }\n",
       "\n",
       "    .dataframe tbody tr th {\n",
       "        vertical-align: top;\n",
       "    }\n",
       "</style>\n",
       "<table border=\"1\" class=\"dataframe\">\n",
       "  <thead>\n",
       "    <tr style=\"text-align: right;\">\n",
       "      <th></th>\n",
       "      <th>asin</th>\n",
       "      <th>helpful</th>\n",
       "      <th>overall</th>\n",
       "      <th>reviewText</th>\n",
       "      <th>reviewTime</th>\n",
       "      <th>reviewerID</th>\n",
       "      <th>reviewerName</th>\n",
       "      <th>summary</th>\n",
       "      <th>unixReviewTime</th>\n",
       "    </tr>\n",
       "  </thead>\n",
       "  <tbody>\n",
       "    <tr>\n",
       "      <th>0</th>\n",
       "      <td>097293751X</td>\n",
       "      <td>[0, 0]</td>\n",
       "      <td>5</td>\n",
       "      <td>Perfect for new parents. We were able to keep ...</td>\n",
       "      <td>07 16, 2013</td>\n",
       "      <td>A1HK2FQW6KXQB2</td>\n",
       "      <td>Amanda Johnsen \"Amanda E. Johnsen\"</td>\n",
       "      <td>Awesine</td>\n",
       "      <td>1373932800</td>\n",
       "    </tr>\n",
       "    <tr>\n",
       "      <th>1</th>\n",
       "      <td>097293751X</td>\n",
       "      <td>[0, 0]</td>\n",
       "      <td>5</td>\n",
       "      <td>This book is such a life saver.  It has been s...</td>\n",
       "      <td>06 29, 2013</td>\n",
       "      <td>A19K65VY14D13R</td>\n",
       "      <td>angela</td>\n",
       "      <td>Should be required for all new parents!</td>\n",
       "      <td>1372464000</td>\n",
       "    </tr>\n",
       "  </tbody>\n",
       "</table>\n",
       "</div>"
      ],
      "text/plain": [
       "         asin helpful  overall  \\\n",
       "0  097293751X  [0, 0]        5   \n",
       "1  097293751X  [0, 0]        5   \n",
       "\n",
       "                                          reviewText   reviewTime  \\\n",
       "0  Perfect for new parents. We were able to keep ...  07 16, 2013   \n",
       "1  This book is such a life saver.  It has been s...  06 29, 2013   \n",
       "\n",
       "       reviewerID                        reviewerName  \\\n",
       "0  A1HK2FQW6KXQB2  Amanda Johnsen \"Amanda E. Johnsen\"   \n",
       "1  A19K65VY14D13R                              angela   \n",
       "\n",
       "                                   summary  unixReviewTime  \n",
       "0                                  Awesine      1373932800  \n",
       "1  Should be required for all new parents!      1372464000  "
      ]
     },
     "execution_count": 6,
     "metadata": {},
     "output_type": "execute_result"
    }
   ],
   "source": [
    "## Exploring the dataset\n",
    "Baby_Products.head(2)"
   ]
  },
  {
   "cell_type": "code",
   "execution_count": 7,
   "metadata": {},
   "outputs": [
    {
     "data": {
      "text/plain": [
       "160792"
      ]
     },
     "execution_count": 7,
     "metadata": {},
     "output_type": "execute_result"
    }
   ],
   "source": [
    "## Counting the number of rows \n",
    "len(Baby_Products)"
   ]
  },
  {
   "cell_type": "code",
   "execution_count": 8,
   "metadata": {},
   "outputs": [
    {
     "name": "stdout",
     "output_type": "stream",
     "text": [
      "<class 'pandas.core.frame.DataFrame'>\n",
      "RangeIndex: 160792 entries, 0 to 160791\n",
      "Data columns (total 9 columns):\n",
      "asin              160792 non-null object\n",
      "helpful           160792 non-null object\n",
      "overall           160792 non-null int64\n",
      "reviewText        160792 non-null object\n",
      "reviewTime        160792 non-null object\n",
      "reviewerID        160792 non-null object\n",
      "reviewerName      159427 non-null object\n",
      "summary           160792 non-null object\n",
      "unixReviewTime    160792 non-null int64\n",
      "dtypes: int64(2), object(7)\n",
      "memory usage: 11.0+ MB\n"
     ]
    }
   ],
   "source": [
    "## Exploring the data\n",
    "Baby_Products.info()"
   ]
  },
  {
   "cell_type": "code",
   "execution_count": 9,
   "metadata": {},
   "outputs": [
    {
     "data": {
      "text/html": [
       "<div>\n",
       "<style>\n",
       "    .dataframe thead tr:only-child th {\n",
       "        text-align: right;\n",
       "    }\n",
       "\n",
       "    .dataframe thead th {\n",
       "        text-align: left;\n",
       "    }\n",
       "\n",
       "    .dataframe tbody tr th {\n",
       "        vertical-align: top;\n",
       "    }\n",
       "</style>\n",
       "<table border=\"1\" class=\"dataframe\">\n",
       "  <thead>\n",
       "    <tr style=\"text-align: right;\">\n",
       "      <th></th>\n",
       "      <th>overall</th>\n",
       "      <th>unixReviewTime</th>\n",
       "    </tr>\n",
       "  </thead>\n",
       "  <tbody>\n",
       "    <tr>\n",
       "      <th>count</th>\n",
       "      <td>160792.000000</td>\n",
       "      <td>1.607920e+05</td>\n",
       "    </tr>\n",
       "    <tr>\n",
       "      <th>mean</th>\n",
       "      <td>4.214115</td>\n",
       "      <td>1.350242e+09</td>\n",
       "    </tr>\n",
       "    <tr>\n",
       "      <th>std</th>\n",
       "      <td>1.144325</td>\n",
       "      <td>5.616114e+07</td>\n",
       "    </tr>\n",
       "    <tr>\n",
       "      <th>min</th>\n",
       "      <td>1.000000</td>\n",
       "      <td>9.824544e+08</td>\n",
       "    </tr>\n",
       "    <tr>\n",
       "      <th>25%</th>\n",
       "      <td>4.000000</td>\n",
       "      <td>1.331942e+09</td>\n",
       "    </tr>\n",
       "    <tr>\n",
       "      <th>50%</th>\n",
       "      <td>5.000000</td>\n",
       "      <td>1.365811e+09</td>\n",
       "    </tr>\n",
       "    <tr>\n",
       "      <th>75%</th>\n",
       "      <td>5.000000</td>\n",
       "      <td>1.386547e+09</td>\n",
       "    </tr>\n",
       "    <tr>\n",
       "      <th>max</th>\n",
       "      <td>5.000000</td>\n",
       "      <td>1.405987e+09</td>\n",
       "    </tr>\n",
       "  </tbody>\n",
       "</table>\n",
       "</div>"
      ],
      "text/plain": [
       "             overall  unixReviewTime\n",
       "count  160792.000000    1.607920e+05\n",
       "mean        4.214115    1.350242e+09\n",
       "std         1.144325    5.616114e+07\n",
       "min         1.000000    9.824544e+08\n",
       "25%         4.000000    1.331942e+09\n",
       "50%         5.000000    1.365811e+09\n",
       "75%         5.000000    1.386547e+09\n",
       "max         5.000000    1.405987e+09"
      ]
     },
     "execution_count": 9,
     "metadata": {},
     "output_type": "execute_result"
    }
   ],
   "source": [
    "Baby_Products.describe()"
   ]
  },
  {
   "cell_type": "code",
   "execution_count": 10,
   "metadata": {
    "collapsed": true
   },
   "outputs": [],
   "source": [
    "# Creating a new column which contains the number of words in the review column\n",
    "\n",
    "Baby_Products['Review length'] = Baby_Products['reviewText'].apply(len)"
   ]
  },
  {
   "cell_type": "code",
   "execution_count": 11,
   "metadata": {
    "collapsed": true
   },
   "outputs": [],
   "source": [
    "sns.set_style('white')"
   ]
  },
  {
   "cell_type": "code",
   "execution_count": 15,
   "metadata": {},
   "outputs": [
    {
     "data": {
      "text/plain": [
       "<seaborn.axisgrid.FacetGrid at 0x1ca7f358>"
      ]
     },
     "execution_count": 15,
     "metadata": {},
     "output_type": "execute_result"
    },
    {
     "data": {
      "image/png": "[encoded data removed]",
      "text/plain": [
       "<matplotlib.figure.Figure at 0x1ca7f320>"
      ]
     },
     "metadata": {},
     "output_type": "display_data"
    }
   ],
   "source": [
    "g = sns.FacetGrid(Baby_Products, col='overall')\n",
    "g.map(plt.hist,'Review length', bins=65) # distributions similar but amounts skewed towards 3 4 and 5 stars "
   ]
  },
  {
   "cell_type": "code",
   "execution_count": 16,
   "metadata": {},
   "outputs": [
    {
     "data": {
      "text/plain": [
       "<matplotlib.axes._subplots.AxesSubplot at 0x1d2c7438>"
      ]
     },
     "execution_count": 16,
     "metadata": {},
     "output_type": "execute_result"
    },
    {
     "data": {
      "image/png": "[encoded data removed]",
      "text/plain": [
       "<matplotlib.figure.Figure at 0x1c2d2f28>"
      ]
     },
     "metadata": {},
     "output_type": "display_data"
    }
   ],
   "source": [
    "sns.countplot(x='overall', data=Baby_Products, palette='rainbow') ## Most reviews have an overall rating of 5 "
   ]
  },
  {
   "cell_type": "code",
   "execution_count": 20,
   "metadata": {},
   "outputs": [
    {
     "data": {
      "text/plain": [
       "<matplotlib.axes._subplots.AxesSubplot at 0x1d55e358>"
      ]
     },
     "execution_count": 20,
     "metadata": {},
     "output_type": "execute_result"
    },
    {
     "data": {
      "image/png": "[encoded data removed]",
      "text/plain": [
       "<matplotlib.figure.Figure at 0x1d5cba20>"
      ]
     },
     "metadata": {},
     "output_type": "display_data"
    }
   ],
   "source": [
    "sns.boxplot(x='overall', y='Review length', data=Baby_Products, palette='rainbow') \n",
    "# 4 and 5 reviews appear to have longer review length but many outliers. This could cause some issues. "
   ]
  },
  {
   "cell_type": "code",
   "execution_count": 21,
   "metadata": {
    "collapsed": true
   },
   "outputs": [],
   "source": [
    "Baby = Baby_Products.drop('unixReviewTime', axis=1)"
   ]
  },
  {
   "cell_type": "code",
   "execution_count": 22,
   "metadata": {
    "collapsed": true
   },
   "outputs": [],
   "source": [
    "Baby['helpful_count'] = Baby['helpful'].apply(lambda x: x[0])"
   ]
  },
  {
   "cell_type": "code",
   "execution_count": 24,
   "metadata": {
    "collapsed": true
   },
   "outputs": [],
   "source": [
    "Baby['overall_count'] = Baby['helpful'].apply(lambda x: x[1])"
   ]
  },
  {
   "cell_type": "code",
   "execution_count": 25,
   "metadata": {},
   "outputs": [
    {
     "data": {
      "text/html": [
       "<div>\n",
       "<style>\n",
       "    .dataframe thead tr:only-child th {\n",
       "        text-align: right;\n",
       "    }\n",
       "\n",
       "    .dataframe thead th {\n",
       "        text-align: left;\n",
       "    }\n",
       "\n",
       "    .dataframe tbody tr th {\n",
       "        vertical-align: top;\n",
       "    }\n",
       "</style>\n",
       "<table border=\"1\" class=\"dataframe\">\n",
       "  <thead>\n",
       "    <tr style=\"text-align: right;\">\n",
       "      <th></th>\n",
       "      <th>Review length</th>\n",
       "      <th>helpful_count</th>\n",
       "      <th>overall_count</th>\n",
       "    </tr>\n",
       "    <tr>\n",
       "      <th>overall</th>\n",
       "      <th></th>\n",
       "      <th></th>\n",
       "      <th></th>\n",
       "    </tr>\n",
       "  </thead>\n",
       "  <tbody>\n",
       "    <tr>\n",
       "      <th>1</th>\n",
       "      <td>541.128533</td>\n",
       "      <td>2.937204</td>\n",
       "      <td>4.379205</td>\n",
       "    </tr>\n",
       "    <tr>\n",
       "      <th>2</th>\n",
       "      <td>574.858262</td>\n",
       "      <td>1.971609</td>\n",
       "      <td>2.742304</td>\n",
       "    </tr>\n",
       "    <tr>\n",
       "      <th>3</th>\n",
       "      <td>589.839003</td>\n",
       "      <td>2.080730</td>\n",
       "      <td>2.631121</td>\n",
       "    </tr>\n",
       "    <tr>\n",
       "      <th>4</th>\n",
       "      <td>602.717961</td>\n",
       "      <td>1.806237</td>\n",
       "      <td>2.113155</td>\n",
       "    </tr>\n",
       "    <tr>\n",
       "      <th>5</th>\n",
       "      <td>467.140357</td>\n",
       "      <td>1.593910</td>\n",
       "      <td>1.827877</td>\n",
       "    </tr>\n",
       "  </tbody>\n",
       "</table>\n",
       "</div>"
      ],
      "text/plain": [
       "         Review length  helpful_count  overall_count\n",
       "overall                                             \n",
       "1           541.128533       2.937204       4.379205\n",
       "2           574.858262       1.971609       2.742304\n",
       "3           589.839003       2.080730       2.631121\n",
       "4           602.717961       1.806237       2.113155\n",
       "5           467.140357       1.593910       1.827877"
      ]
     },
     "execution_count": 25,
     "metadata": {},
     "output_type": "execute_result"
    }
   ],
   "source": [
    "## Getting the mean values of the numerical columns \n",
    "stars = Baby.groupby('overall').mean()\n",
    "stars"
   ]
  },
  {
   "cell_type": "code",
   "execution_count": 26,
   "metadata": {},
   "outputs": [
    {
     "data": {
      "text/html": [
       "<div>\n",
       "<style>\n",
       "    .dataframe thead tr:only-child th {\n",
       "        text-align: right;\n",
       "    }\n",
       "\n",
       "    .dataframe thead th {\n",
       "        text-align: left;\n",
       "    }\n",
       "\n",
       "    .dataframe tbody tr th {\n",
       "        vertical-align: top;\n",
       "    }\n",
       "</style>\n",
       "<table border=\"1\" class=\"dataframe\">\n",
       "  <thead>\n",
       "    <tr style=\"text-align: right;\">\n",
       "      <th></th>\n",
       "      <th>Review length</th>\n",
       "      <th>helpful_count</th>\n",
       "      <th>overall_count</th>\n",
       "    </tr>\n",
       "  </thead>\n",
       "  <tbody>\n",
       "    <tr>\n",
       "      <th>Review length</th>\n",
       "      <td>1.000000</td>\n",
       "      <td>0.139904</td>\n",
       "      <td>0.110355</td>\n",
       "    </tr>\n",
       "    <tr>\n",
       "      <th>helpful_count</th>\n",
       "      <td>0.139904</td>\n",
       "      <td>1.000000</td>\n",
       "      <td>0.991423</td>\n",
       "    </tr>\n",
       "    <tr>\n",
       "      <th>overall_count</th>\n",
       "      <td>0.110355</td>\n",
       "      <td>0.991423</td>\n",
       "      <td>1.000000</td>\n",
       "    </tr>\n",
       "  </tbody>\n",
       "</table>\n",
       "</div>"
      ],
      "text/plain": [
       "               Review length  helpful_count  overall_count\n",
       "Review length       1.000000       0.139904       0.110355\n",
       "helpful_count       0.139904       1.000000       0.991423\n",
       "overall_count       0.110355       0.991423       1.000000"
      ]
     },
     "execution_count": 26,
     "metadata": {},
     "output_type": "execute_result"
    }
   ],
   "source": [
    "stars.corr()"
   ]
  },
  {
   "cell_type": "code",
   "execution_count": 27,
   "metadata": {},
   "outputs": [
    {
     "data": {
      "text/plain": [
       "<matplotlib.axes._subplots.AxesSubplot at 0x1d6dd208>"
      ]
     },
     "execution_count": 27,
     "metadata": {},
     "output_type": "execute_result"
    },
    {
     "data": {
      "image/png": "[encoded data removed]",
      "text/plain": [
       "<matplotlib.figure.Figure at 0x1d6e2c18>"
      ]
     },
     "metadata": {},
     "output_type": "display_data"
    }
   ],
   "source": [
    "sns.heatmap(stars.corr(), cmap='coolwarm', annot=True)"
   ]
  },
  {
   "cell_type": "code",
   "execution_count": 38,
   "metadata": {},
   "outputs": [
    {
     "data": {
      "text/html": [
       "<div>\n",
       "<style>\n",
       "    .dataframe thead tr:only-child th {\n",
       "        text-align: right;\n",
       "    }\n",
       "\n",
       "    .dataframe thead th {\n",
       "        text-align: left;\n",
       "    }\n",
       "\n",
       "    .dataframe tbody tr th {\n",
       "        vertical-align: top;\n",
       "    }\n",
       "</style>\n",
       "<table border=\"1\" class=\"dataframe\">\n",
       "  <thead>\n",
       "    <tr style=\"text-align: right;\">\n",
       "      <th></th>\n",
       "      <th>asin</th>\n",
       "      <th>helpful</th>\n",
       "      <th>overall</th>\n",
       "      <th>reviewText</th>\n",
       "      <th>reviewTime</th>\n",
       "      <th>reviewerID</th>\n",
       "      <th>reviewerName</th>\n",
       "      <th>summary</th>\n",
       "      <th>Review length</th>\n",
       "      <th>helpful_count</th>\n",
       "      <th>overall_count</th>\n",
       "      <th>Positively Rated</th>\n",
       "    </tr>\n",
       "  </thead>\n",
       "  <tbody>\n",
       "    <tr>\n",
       "      <th>0</th>\n",
       "      <td>097293751X</td>\n",
       "      <td>[0, 0]</td>\n",
       "      <td>5</td>\n",
       "      <td>Perfect for new parents. We were able to keep ...</td>\n",
       "      <td>07 16, 2013</td>\n",
       "      <td>A1HK2FQW6KXQB2</td>\n",
       "      <td>Amanda Johnsen \"Amanda E. Johnsen\"</td>\n",
       "      <td>Awesine</td>\n",
       "      <td>253</td>\n",
       "      <td>0</td>\n",
       "      <td>0</td>\n",
       "      <td>1</td>\n",
       "    </tr>\n",
       "    <tr>\n",
       "      <th>1</th>\n",
       "      <td>097293751X</td>\n",
       "      <td>[0, 0]</td>\n",
       "      <td>5</td>\n",
       "      <td>This book is such a life saver.  It has been s...</td>\n",
       "      <td>06 29, 2013</td>\n",
       "      <td>A19K65VY14D13R</td>\n",
       "      <td>angela</td>\n",
       "      <td>Should be required for all new parents!</td>\n",
       "      <td>556</td>\n",
       "      <td>0</td>\n",
       "      <td>0</td>\n",
       "      <td>1</td>\n",
       "    </tr>\n",
       "    <tr>\n",
       "      <th>2</th>\n",
       "      <td>097293751X</td>\n",
       "      <td>[0, 0]</td>\n",
       "      <td>5</td>\n",
       "      <td>Helps me know exactly how my babies day has go...</td>\n",
       "      <td>03 19, 2014</td>\n",
       "      <td>A2LL1TGG90977E</td>\n",
       "      <td>Carter</td>\n",
       "      <td>Grandmother watching baby</td>\n",
       "      <td>227</td>\n",
       "      <td>0</td>\n",
       "      <td>0</td>\n",
       "      <td>1</td>\n",
       "    </tr>\n",
       "    <tr>\n",
       "      <th>3</th>\n",
       "      <td>097293751X</td>\n",
       "      <td>[0, 0]</td>\n",
       "      <td>5</td>\n",
       "      <td>I bought this a few times for my older son and...</td>\n",
       "      <td>08 17, 2013</td>\n",
       "      <td>A5G19RYX8599E</td>\n",
       "      <td>cfpurplerose</td>\n",
       "      <td>repeat buyer</td>\n",
       "      <td>828</td>\n",
       "      <td>0</td>\n",
       "      <td>0</td>\n",
       "      <td>1</td>\n",
       "    </tr>\n",
       "    <tr>\n",
       "      <th>4</th>\n",
       "      <td>097293751X</td>\n",
       "      <td>[0, 0]</td>\n",
       "      <td>4</td>\n",
       "      <td>I wanted an alternative to printing out daily ...</td>\n",
       "      <td>04 1, 2014</td>\n",
       "      <td>A2496A4EWMLQ7</td>\n",
       "      <td>C. Jeter</td>\n",
       "      <td>Great</td>\n",
       "      <td>371</td>\n",
       "      <td>0</td>\n",
       "      <td>0</td>\n",
       "      <td>1</td>\n",
       "    </tr>\n",
       "  </tbody>\n",
       "</table>\n",
       "</div>"
      ],
      "text/plain": [
       "         asin helpful  overall  \\\n",
       "0  097293751X  [0, 0]        5   \n",
       "1  097293751X  [0, 0]        5   \n",
       "2  097293751X  [0, 0]        5   \n",
       "3  097293751X  [0, 0]        5   \n",
       "4  097293751X  [0, 0]        4   \n",
       "\n",
       "                                          reviewText   reviewTime  \\\n",
       "0  Perfect for new parents. We were able to keep ...  07 16, 2013   \n",
       "1  This book is such a life saver.  It has been s...  06 29, 2013   \n",
       "2  Helps me know exactly how my babies day has go...  03 19, 2014   \n",
       "3  I bought this a few times for my older son and...  08 17, 2013   \n",
       "4  I wanted an alternative to printing out daily ...   04 1, 2014   \n",
       "\n",
       "       reviewerID                        reviewerName  \\\n",
       "0  A1HK2FQW6KXQB2  Amanda Johnsen \"Amanda E. Johnsen\"   \n",
       "1  A19K65VY14D13R                              angela   \n",
       "2  A2LL1TGG90977E                              Carter   \n",
       "3   A5G19RYX8599E                        cfpurplerose   \n",
       "4   A2496A4EWMLQ7                            C. Jeter   \n",
       "\n",
       "                                   summary  Review length  helpful_count  \\\n",
       "0                                  Awesine            253              0   \n",
       "1  Should be required for all new parents!            556              0   \n",
       "2                Grandmother watching baby            227              0   \n",
       "3                             repeat buyer            828              0   \n",
       "4                                    Great            371              0   \n",
       "\n",
       "   overall_count  Positively Rated  \n",
       "0              0                 1  \n",
       "1              0                 1  \n",
       "2              0                 1  \n",
       "3              0                 1  \n",
       "4              0                 1  "
      ]
     },
     "execution_count": 38,
     "metadata": {},
     "output_type": "execute_result"
    }
   ],
   "source": [
    "## Eliminating rows with missing values \n",
    "Baby.dropna(inplace=True)\n",
    "## Assuming a 3 rating is neutral, those ratings will be removed. \n",
    "Baby = Baby[Baby['overall']!=3]\n",
    "## Creating a new column that will be the target for the model. \n",
    "Baby['Positively Rated'] = np.where(Baby['overall'] > 3, 1, 0)\n",
    "Baby.head(5)\n",
    "## Selecting only 1 or 5 star reviews \n",
    "##Baby_class = Baby[(Baby['overall']==1) | (Baby['overall']==5)]"
   ]
  },
  {
   "cell_type": "code",
   "execution_count": 40,
   "metadata": {},
   "outputs": [
    {
     "data": {
      "text/plain": [
       "0.8809952206915941"
      ]
     },
     "execution_count": 40,
     "metadata": {},
     "output_type": "execute_result"
    }
   ],
   "source": [
    "Baby['Positively Rated'].mean() ## looking at the mean we can deduce that we have impbalanced classes. "
   ]
  },
  {
   "cell_type": "code",
   "execution_count": 37,
   "metadata": {},
   "outputs": [
    {
     "name": "stdout",
     "output_type": "stream",
     "text": [
      "<class 'pandas.core.frame.DataFrame'>\n",
      "Int64Index: 159427 entries, 0 to 160791\n",
      "Data columns (total 11 columns):\n",
      "asin             159427 non-null object\n",
      "helpful          159427 non-null object\n",
      "overall          159427 non-null int64\n",
      "reviewText       159427 non-null object\n",
      "reviewTime       159427 non-null object\n",
      "reviewerID       159427 non-null object\n",
      "reviewerName     159427 non-null object\n",
      "summary          159427 non-null object\n",
      "Review length    159427 non-null int64\n",
      "helpful_count    159427 non-null int64\n",
      "overall_count    159427 non-null int64\n",
      "dtypes: int64(4), object(7)\n",
      "memory usage: 14.6+ MB\n"
     ]
    }
   ],
   "source": [
    "Baby.info()"
   ]
  },
  {
   "cell_type": "code",
   "execution_count": 50,
   "metadata": {
    "collapsed": true
   },
   "outputs": [],
   "source": [
    "## Splitting our data into training and test sets\n",
    "from sklearn.model_selection import train_test_split\n",
    "\n",
    "X_train, X_test, y_train, y_test = train_test_split(Baby['reviewText'], Baby['Positively Rated'], random_state=0)"
   ]
  },
  {
   "cell_type": "code",
   "execution_count": 97,
   "metadata": {},
   "outputs": [
    {
     "name": "stdout",
     "output_type": "stream",
     "text": [
      "X_train first entry:\n",
      "\n",
      " This book is such a life saver.  It has been so helpful to be able to go back to track trends, answer pediatrician questions, or communicate with each other when you are up at different times of the night with a newborn.  I think it is one of those things that everyone should be required to have before they leave the hospital.  We went through all the pages of the newborn version, then moved to the infant version, and will finish up the second infant book (third total) right as our baby turns 1.  See other things that are must haves for baby at [...]\n",
      "\n",
      "\n",
      "X_train shape:  (106710,)\n"
     ]
    }
   ],
   "source": [
    "print('X_train first entry:\\n\\n', X_train[1])\n",
    "print('\\n\\nX_train shape: ', X_train.shape)  "
   ]
  },
  {
   "cell_type": "code",
   "execution_count": 61,
   "metadata": {
    "collapsed": true
   },
   "outputs": [],
   "source": [
    "## Converting to a numeric representation that scikit learn can use. \n",
    "##This is done by using a bag of words approach which is a commonly used way to represent text for use in machine learning \n",
    "## It counts how often each word occurs and ignores structure. CountVectorizer allows us to use the bag of words approach by \n",
    "## converting a collection of text documents into a matrix of token counts \n",
    "## Providing the CountVectorizer with actual instances/examples from the training data. CountVectorizer tokenizes the training \n",
    "## data and builds the vocabulary\n",
    "from sklearn.feature_extraction.text import CountVectorizer \n",
    "vect = CountVectorizer().fit(X_train)\n"
   ]
  },
  {
   "cell_type": "code",
   "execution_count": 62,
   "metadata": {},
   "outputs": [
    {
     "data": {
      "text/plain": [
       "['00',\n",
       " '8weeks',\n",
       " 'app',\n",
       " 'beams',\n",
       " 'buckleshusband',\n",
       " 'clamping',\n",
       " 'coscto',\n",
       " 'developement',\n",
       " 'educating',\n",
       " 'feedingeasy',\n",
       " 'generate',\n",
       " 'her4',\n",
       " 'intensified',\n",
       " 'leftover',\n",
       " 'mediocre',\n",
       " 'neverfull',\n",
       " 'overtops',\n",
       " 'pokes',\n",
       " 'raft',\n",
       " 'rivers',\n",
       " 'shouldered',\n",
       " 'spons',\n",
       " 'suspender',\n",
       " 'tirestray',\n",
       " 'unorganic',\n",
       " 'wetness']"
      ]
     },
     "execution_count": 62,
     "metadata": {},
     "output_type": "execute_result"
    }
   ],
   "source": [
    "## Getting the vocabulary by looking at every 2000th feature \n",
    "\n",
    "vect.get_feature_names()[::2000]"
   ]
  },
  {
   "cell_type": "code",
   "execution_count": 64,
   "metadata": {},
   "outputs": [
    {
     "data": {
      "text/plain": [
       "51444"
      ]
     },
     "execution_count": 64,
     "metadata": {},
     "output_type": "execute_result"
    }
   ],
   "source": [
    "len(vect.get_feature_names())"
   ]
  },
  {
   "cell_type": "code",
   "execution_count": 65,
   "metadata": {},
   "outputs": [
    {
     "data": {
      "text/plain": [
       "<106710x51444 sparse matrix of type '<class 'numpy.int64'>'\n",
       "\twith 6609052 stored elements in Compressed Sparse Row format>"
      ]
     },
     "execution_count": 65,
     "metadata": {},
     "output_type": "execute_result"
    }
   ],
   "source": [
    "## Transforming the documents in X_train to a document term matrix giving the bag of words representation of X_train\n",
    "X_train_vectorized = vect.transform(X_train)\n",
    "X_train_vectorized"
   ]
  },
  {
   "cell_type": "code",
   "execution_count": 66,
   "metadata": {},
   "outputs": [
    {
     "data": {
      "text/plain": [
       "LogisticRegression(C=1.0, class_weight=None, dual=False, fit_intercept=True,\n",
       "          intercept_scaling=1, max_iter=100, multi_class='ovr', n_jobs=1,\n",
       "          penalty='l2', random_state=None, solver='liblinear', tol=0.0001,\n",
       "          verbose=0, warm_start=False)"
      ]
     },
     "execution_count": 66,
     "metadata": {},
     "output_type": "execute_result"
    }
   ],
   "source": [
    "## Using X_train_vectorized to train a logistic regression model. \n",
    "## Logistic Regression was used because it works well with high dimentional sparse data \n",
    "from sklearn.linear_model import LogisticRegression\n",
    "model = LogisticRegression()\n",
    "model.fit(X_train_vectorized, y_train)\n"
   ]
  },
  {
   "cell_type": "code",
   "execution_count": 70,
   "metadata": {},
   "outputs": [
    {
     "name": "stdout",
     "output_type": "stream",
     "text": [
      "AUC: 0.802005832803\n"
     ]
    }
   ],
   "source": [
    "## making predicitions and computing the area under the curve score \n",
    "from sklearn.metrics import roc_auc_score\n",
    "predictions = model.predict(vect.transform(X_test))\n",
    "print('AUC:', roc_auc_score(y_test, predictions))\n"
   ]
  },
  {
   "cell_type": "code",
   "execution_count": 73,
   "metadata": {},
   "outputs": [
    {
     "name": "stdout",
     "output_type": "stream",
     "text": [
      "Smallest Coefs:\n",
      "['poorly' 'theory' 'disappointing' 'disappointment' 'worst' 'unusable'\n",
      " 'hopes' 'disappointed' 'returned' 'useless']\n",
      "\n",
      "Largest Coefs:\n",
      "['complaint' 'penny' 'satisfied' 'sooner' 'glad' 'excellent' 'gripe'\n",
      " 'skeptical' 'awesome' 'lifesaver']\n"
     ]
    }
   ],
   "source": [
    "## looking at the coefficients from our model sorting for the 10 largest and 10 smallest\n",
    "\n",
    "feature_names = np.array(vect.get_feature_names())\n",
    "sorted_coef_index = model.coef_[0].argsort()\n",
    "print('Smallest Coefs:\\n{}\\n'.format(feature_names[sorted_coef_index[:10]])) ## Negative reviews \n",
    "print('Largest Coefs:\\n{}'.format(feature_names[sorted_coef_index[:-11:-1]])) ## Positive reviews "
   ]
  },
  {
   "cell_type": "code",
   "execution_count": 75,
   "metadata": {},
   "outputs": [
    {
     "data": {
      "text/plain": [
       "16449"
      ]
     },
     "execution_count": 75,
     "metadata": {},
     "output_type": "execute_result"
    }
   ],
   "source": [
    "## Using TFIDF to rescale features to weight terms based on how important they are to the document. \n",
    "## High weights are given to terms that appear often in particular documents but not in the whole corpus\n",
    "from sklearn.feature_extraction.text import TfidfVectorizer\n",
    "## To limit overfitting, min_df removes any words that appear in fewer than 5 documents. \n",
    "vect = TfidfVectorizer(min_df=5).fit(X_train)  \n",
    "len(vect.get_feature_names()) "
   ]
  },
  {
   "cell_type": "code",
   "execution_count": 76,
   "metadata": {},
   "outputs": [
    {
     "name": "stdout",
     "output_type": "stream",
     "text": [
      "AUC: 0.765293731911\n"
     ]
    }
   ],
   "source": [
    "X_train_vectorized = vect.transform(X_train)\n",
    "\n",
    "model = LogisticRegression()\n",
    "model.fit(X_train_vectorized, y_train)\n",
    "\n",
    "predictions = model.predict(vect.transform(X_test))\n",
    "print('AUC:', roc_auc_score(y_test, predictions)) ## a slightly lower score was achieved however with far fewer features "
   ]
  },
  {
   "cell_type": "code",
   "execution_count": 77,
   "metadata": {},
   "outputs": [
    {
     "name": "stdout",
     "output_type": "stream",
     "text": [
      "Smallest tfidf:\n",
      "['stealthfit' 'optionalbaby' 'technicians' 'opus' 'remake' 'lw2450'\n",
      " 'statistics' 'prospective' 'wimp' 'similarities']\n",
      "\n",
      "Largest tfidf:\n",
      "['perfect' 'practically' 'love' 'uncomfortable' 'useless' 'beautifull' 'ok'\n",
      " 'helps' 'nice' 'quack']\n"
     ]
    }
   ],
   "source": [
    "feature_names = np.array(vect.get_feature_names())\n",
    "sorted_tfidf_index = X_train_vectorized.max(0).toarray()[0].argsort()\n",
    "print('Smallest tfidf:\\n{}\\n'.format(feature_names[sorted_tfidf_index[:10]])) ## commonly appeared acorss all reviews/\n",
    "## only appeared rarely in very long reviews\n",
    "print('Largest tfidf:\\n{}'.format(feature_names[sorted_tfidf_index[:-11:-1]])) \n",
    "## words which appeared frequently in a review but did not appear commonly across all reviews "
   ]
  },
  {
   "cell_type": "code",
   "execution_count": 78,
   "metadata": {},
   "outputs": [
    {
     "name": "stdout",
     "output_type": "stream",
     "text": [
      "Smallest Coefs:\n",
      "['not' 'disappointed' 'returned' 'useless' 'waste' 'return' 'idea' 'worst'\n",
      " 'disappointing' 'returning']\n",
      "\n",
      "Largest Coefs:\n",
      "['great' 'love' 'easy' 'perfect' 'loves' 'best' 'perfectly' 'happy'\n",
      " 'highly' 'little']\n"
     ]
    }
   ],
   "source": [
    "## looking at the coefficients from our new model sorting for the 10 largest and 10 smallest\n",
    "\n",
    "feature_names = np.array(vect.get_feature_names())\n",
    "sorted_coef_index = model.coef_[0].argsort()\n",
    "print('Smallest Coefs:\\n{}\\n'.format(feature_names[sorted_coef_index[:10]])) ## Negative reviews \n",
    "print('Largest Coefs:\\n{}'.format(feature_names[sorted_coef_index[:-11:-1]])) ## Positive reviews "
   ]
  },
  {
   "cell_type": "code",
   "execution_count": 79,
   "metadata": {},
   "outputs": [
    {
     "name": "stdout",
     "output_type": "stream",
     "text": [
      "[0 0]\n"
     ]
    }
   ],
   "source": [
    "## Since word order is not accounted for, our model makes this prediction error\n",
    "print(model.predict(vect.transform(['not an issue, product is working', 'an issue, product is not working'])))"
   ]
  },
  {
   "cell_type": "code",
   "execution_count": 81,
   "metadata": {},
   "outputs": [
    {
     "data": {
      "text/plain": [
       "198061"
      ]
     },
     "execution_count": 81,
     "metadata": {},
     "output_type": "execute_result"
    }
   ],
   "source": [
    "## to address the above error some context is added by using n-grams \n",
    "vect = CountVectorizer (min_df=5, ngram_range=(1,2)).fit(X_train)\n",
    "X_train_vectorized = vect.transform(X_train)\n",
    "len(vect.get_feature_names())"
   ]
  },
  {
   "cell_type": "code",
   "execution_count": 82,
   "metadata": {},
   "outputs": [
    {
     "name": "stdout",
     "output_type": "stream",
     "text": [
      "AUC: 0.850842894955\n"
     ]
    }
   ],
   "source": [
    "model = LogisticRegression()\n",
    "model.fit(X_train_vectorized, y_train)\n",
    "\n",
    "predictions = model.predict(vect.transform(X_test))\n",
    "print('AUC:', roc_auc_score(y_test, predictions)) ## We able to improve our AUC score"
   ]
  },
  {
   "cell_type": "code",
   "execution_count": 83,
   "metadata": {},
   "outputs": [
    {
     "name": "stdout",
     "output_type": "stream",
     "text": [
      "Smallest Coefs:\n",
      "['not worth' 'not recommend' 'two stars' 'disappointing' 'disappointed'\n",
      " 'useless' 'returned' 'not buy' 'very disappointed' 'poorly']\n",
      "\n",
      "Largest Coefs:\n",
      "['not too' 'excellent' 'perfect' 'would buy' 'awesome' 'perfectly'\n",
      " 'better than' 'great' 'my only' 'glad']\n"
     ]
    }
   ],
   "source": [
    "feature_names = np.array(vect.get_feature_names())\n",
    "sorted_coef_index = model.coef_[0].argsort()\n",
    "print('Smallest Coefs:\\n{}\\n'.format(feature_names[sorted_coef_index[:10]])) ## Negative reviews \n",
    "print('Largest Coefs:\\n{}'.format(feature_names[sorted_coef_index[:-11:-1]])) ## Positive reviews "
   ]
  },
  {
   "cell_type": "code",
   "execution_count": 158,
   "metadata": {
    "collapsed": true
   },
   "outputs": [],
   "source": [
    "from sklearn.model_selection import cross_val_score\n",
    "scores = cross_val_score(LogisticRegression(), X_train_vectorized, y_train, cv=5)"
   ]
  },
  {
   "cell_type": "code",
   "execution_count": 159,
   "metadata": {},
   "outputs": [
    {
     "name": "stdout",
     "output_type": "stream",
     "text": [
      "Mean cross-validation accuracy: 0.948\n"
     ]
    }
   ],
   "source": [
    "print(\"Mean cross-validation accuracy: {:.3f}\".format(np.mean(scores)))"
   ]
  }
 ],
 "metadata": {
  "kernelspec": {
   "display_name": "Python 3",
   "language": "python",
   "name": "python3"
  },
  "language_info": {
   "codemirror_mode": {
    "name": "ipython",
    "version": 3
   },
   "file_extension": ".py",
   "mimetype": "text/x-python",
   "name": "python",
   "nbconvert_exporter": "python",
   "pygments_lexer": "ipython3",
   "version": "3.6.1"
  }
 },
 "nbformat": 4,
 "nbformat_minor": 1
}
