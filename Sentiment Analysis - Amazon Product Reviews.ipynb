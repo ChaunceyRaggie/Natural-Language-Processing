{
 "cells": [
  {
   "cell_type": "code",
   "execution_count": 1,
   "metadata": {
    "collapsed": true
   },
   "outputs": [],
   "source": [
    "## Importing necessary Libraries \n",
    "import ctypes, inspect, os, graphlab\n",
    "from graphlab import SFrame\n",
    "import pandas as pd"
   ]
  },
  {
   "cell_type": "code",
   "execution_count": 2,
   "metadata": {
    "collapsed": false
   },
   "outputs": [
    {
     "name": "stderr",
     "output_type": "stream",
     "text": [
      "2017-04-08 21:46:08,519 [INFO] graphlab.cython.cy_server, 176: GraphLab Create v1.8.5 started. Logging: C:\\Users\\Chauncey\\AppData\\Local\\Temp\\graphlab_server_1491702367.log.0\n"
     ]
    },
    {
     "data": {
      "text/html": [
       "<pre>Finished parsing file C:\\Users\\Chauncey\\Office_Products_5.json</pre>"
      ],
      "text/plain": [
       "Finished parsing file C:\\Users\\Chauncey\\Office_Products_5.json"
      ]
     },
     "metadata": {},
     "output_type": "display_data"
    },
    {
     "data": {
      "text/html": [
       "<pre>Parsing completed. Parsed 100 lines in 0.985056 secs.</pre>"
      ],
      "text/plain": [
       "Parsing completed. Parsed 100 lines in 0.985056 secs."
      ]
     },
     "metadata": {},
     "output_type": "display_data"
    },
    {
     "name": "stdout",
     "output_type": "stream",
     "text": [
      "This non-commercial license of GraphLab Create for academic use is assigned to raggiechauncey@gmail.com and will expire on April 23, 2017.\n",
      "------------------------------------------------------"
     ]
    },
    {
     "data": {
      "text/html": [
       "<pre>Read 50429 lines. Lines per second: 29198.7</pre>"
      ],
      "text/plain": [
       "Read 50429 lines. Lines per second: 29198.7"
      ]
     },
     "metadata": {},
     "output_type": "display_data"
    },
    {
     "data": {
      "text/html": [
       "<pre>Finished parsing file C:\\Users\\Chauncey\\Office_Products_5.json</pre>"
      ],
      "text/plain": [
       "Finished parsing file C:\\Users\\Chauncey\\Office_Products_5.json"
      ]
     },
     "metadata": {},
     "output_type": "display_data"
    },
    {
     "data": {
      "text/html": [
       "<pre>Parsing completed. Parsed 53258 lines in 1.7591 secs.</pre>"
      ],
      "text/plain": [
       "Parsing completed. Parsed 53258 lines in 1.7591 secs."
      ]
     },
     "metadata": {},
     "output_type": "display_data"
    },
    {
     "name": "stdout",
     "output_type": "stream",
     "text": [
      "\n",
      "Inferred types from first line of file as \n",
      "column_type_hints=[dict]\n",
      "If parsing fails due to incorrect types, you can correct\n",
      "the inferred type list above and pass it to read_csv in\n",
      "the column_type_hints argument\n",
      "------------------------------------------------------\n"
     ]
    }
   ],
   "source": [
    "# This code reads the data into a graphlab Sframe. The dataset used is an Office Products dataset containing 53,257 reviews   \n",
    "# retrieved from: http://jmcauley.ucsd.edu/data/amazon/ citation: \"Image-based recommendations on styles and \n",
    "# substitutes\" J. McAuley, C. Targett, J. Shi, A. van den Hengel, SIGIR, 2015\n",
    "Office_Products = graphlab.SFrame.read_json('Office_Products_5.json', orient='lines')"
   ]
  },
  {
   "cell_type": "code",
   "execution_count": 3,
   "metadata": {
    "collapsed": false
   },
   "outputs": [
    {
     "data": {
      "text/html": [
       "<div style=\"max-height:1000px;max-width:1500px;overflow:auto;\"><table frame=\"box\" rules=\"cols\">\n",
       "    <tr>\n",
       "        <th style=\"padding-left: 1em; padding-right: 1em; text-align: center\">asin</th>\n",
       "        <th style=\"padding-left: 1em; padding-right: 1em; text-align: center\">helpful</th>\n",
       "        <th style=\"padding-left: 1em; padding-right: 1em; text-align: center\">overall</th>\n",
       "        <th style=\"padding-left: 1em; padding-right: 1em; text-align: center\">reviewText</th>\n",
       "        <th style=\"padding-left: 1em; padding-right: 1em; text-align: center\">reviewTime</th>\n",
       "        <th style=\"padding-left: 1em; padding-right: 1em; text-align: center\">reviewerID</th>\n",
       "        <th style=\"padding-left: 1em; padding-right: 1em; text-align: center\">reviewerName</th>\n",
       "    </tr>\n",
       "    <tr>\n",
       "        <td style=\"padding-left: 1em; padding-right: 1em; text-align: center; vertical-align: top\">B00000JBLH</td>\n",
       "        <td style=\"padding-left: 1em; padding-right: 1em; text-align: center; vertical-align: top\">[3, 4]</td>\n",
       "        <td style=\"padding-left: 1em; padding-right: 1em; text-align: center; vertical-align: top\">5.0</td>\n",
       "        <td style=\"padding-left: 1em; padding-right: 1em; text-align: center; vertical-align: top\">I bought my first HP12C<br>in about 1984 or so, and ...</td>\n",
       "        <td style=\"padding-left: 1em; padding-right: 1em; text-align: center; vertical-align: top\">09 3, 2004</td>\n",
       "        <td style=\"padding-left: 1em; padding-right: 1em; text-align: center; vertical-align: top\">A32T2H8150OJLU</td>\n",
       "        <td style=\"padding-left: 1em; padding-right: 1em; text-align: center; vertical-align: top\">ARH</td>\n",
       "    </tr>\n",
       "    <tr>\n",
       "        <td style=\"padding-left: 1em; padding-right: 1em; text-align: center; vertical-align: top\">B00000JBLH</td>\n",
       "        <td style=\"padding-left: 1em; padding-right: 1em; text-align: center; vertical-align: top\">[7, 9]</td>\n",
       "        <td style=\"padding-left: 1em; padding-right: 1em; text-align: center; vertical-align: top\">5.0</td>\n",
       "        <td style=\"padding-left: 1em; padding-right: 1em; text-align: center; vertical-align: top\">WHY THIS BELATED REVIEW?<br>I feel very obliged to ...</td>\n",
       "        <td style=\"padding-left: 1em; padding-right: 1em; text-align: center; vertical-align: top\">12 15, 2007</td>\n",
       "        <td style=\"padding-left: 1em; padding-right: 1em; text-align: center; vertical-align: top\">A3MAFS04ZABRGO</td>\n",
       "        <td style=\"padding-left: 1em; padding-right: 1em; text-align: center; vertical-align: top\">Let it Be \"Alan\"</td>\n",
       "    </tr>\n",
       "    <tr>\n",
       "        <td style=\"padding-left: 1em; padding-right: 1em; text-align: center; vertical-align: top\">B00000JBLH</td>\n",
       "        <td style=\"padding-left: 1em; padding-right: 1em; text-align: center; vertical-align: top\">[3, 3]</td>\n",
       "        <td style=\"padding-left: 1em; padding-right: 1em; text-align: center; vertical-align: top\">2.0</td>\n",
       "        <td style=\"padding-left: 1em; padding-right: 1em; text-align: center; vertical-align: top\">I have an HP 48GX that<br>has been kicking for  ...</td>\n",
       "        <td style=\"padding-left: 1em; padding-right: 1em; text-align: center; vertical-align: top\">01 1, 2011</td>\n",
       "        <td style=\"padding-left: 1em; padding-right: 1em; text-align: center; vertical-align: top\">A1F1A0QQP2XVH5</td>\n",
       "        <td style=\"padding-left: 1em; padding-right: 1em; text-align: center; vertical-align: top\">Mark B</td>\n",
       "    </tr>\n",
       "    <tr>\n",
       "        <td style=\"padding-left: 1em; padding-right: 1em; text-align: center; vertical-align: top\">B00000JBLH</td>\n",
       "        <td style=\"padding-left: 1em; padding-right: 1em; text-align: center; vertical-align: top\">[7, 8]</td>\n",
       "        <td style=\"padding-left: 1em; padding-right: 1em; text-align: center; vertical-align: top\">5.0</td>\n",
       "        <td style=\"padding-left: 1em; padding-right: 1em; text-align: center; vertical-align: top\">I've started doing more<br>finance stuff recently ...</td>\n",
       "        <td style=\"padding-left: 1em; padding-right: 1em; text-align: center; vertical-align: top\">04 19, 2006</td>\n",
       "        <td style=\"padding-left: 1em; padding-right: 1em; text-align: center; vertical-align: top\">A49R5DBXXQDE5</td>\n",
       "        <td style=\"padding-left: 1em; padding-right: 1em; text-align: center; vertical-align: top\">R. D Johnson</td>\n",
       "    </tr>\n",
       "    <tr>\n",
       "        <td style=\"padding-left: 1em; padding-right: 1em; text-align: center; vertical-align: top\">B00000JBLH</td>\n",
       "        <td style=\"padding-left: 1em; padding-right: 1em; text-align: center; vertical-align: top\">[0, 0]</td>\n",
       "        <td style=\"padding-left: 1em; padding-right: 1em; text-align: center; vertical-align: top\">5.0</td>\n",
       "        <td style=\"padding-left: 1em; padding-right: 1em; text-align: center; vertical-align: top\">For simple calculations<br>and discounted cash ...</td>\n",
       "        <td style=\"padding-left: 1em; padding-right: 1em; text-align: center; vertical-align: top\">08 4, 2013</td>\n",
       "        <td style=\"padding-left: 1em; padding-right: 1em; text-align: center; vertical-align: top\">A2XRMQA6PJ5ZJ8</td>\n",
       "        <td style=\"padding-left: 1em; padding-right: 1em; text-align: center; vertical-align: top\">Roger J. Buffington</td>\n",
       "    </tr>\n",
       "    <tr>\n",
       "        <td style=\"padding-left: 1em; padding-right: 1em; text-align: center; vertical-align: top\">B00000JBLH</td>\n",
       "        <td style=\"padding-left: 1em; padding-right: 1em; text-align: center; vertical-align: top\">[10, 12]</td>\n",
       "        <td style=\"padding-left: 1em; padding-right: 1em; text-align: center; vertical-align: top\">5.0</td>\n",
       "        <td style=\"padding-left: 1em; padding-right: 1em; text-align: center; vertical-align: top\">While I don't have an<br>MBA, it's hard to bel ...</td>\n",
       "        <td style=\"padding-left: 1em; padding-right: 1em; text-align: center; vertical-align: top\">01 23, 2002</td>\n",
       "        <td style=\"padding-left: 1em; padding-right: 1em; text-align: center; vertical-align: top\">A2JFOHC9W629IE</td>\n",
       "        <td style=\"padding-left: 1em; padding-right: 1em; text-align: center; vertical-align: top\">scott_from_dallas</td>\n",
       "    </tr>\n",
       "    <tr>\n",
       "        <td style=\"padding-left: 1em; padding-right: 1em; text-align: center; vertical-align: top\">B00000JBLH</td>\n",
       "        <td style=\"padding-left: 1em; padding-right: 1em; text-align: center; vertical-align: top\">[3, 4]</td>\n",
       "        <td style=\"padding-left: 1em; padding-right: 1em; text-align: center; vertical-align: top\">5.0</td>\n",
       "        <td style=\"padding-left: 1em; padding-right: 1em; text-align: center; vertical-align: top\">I've had an HP 12C ever<br>since they were first ...</td>\n",
       "        <td style=\"padding-left: 1em; padding-right: 1em; text-align: center; vertical-align: top\">01 17, 2007</td>\n",
       "        <td style=\"padding-left: 1em; padding-right: 1em; text-align: center; vertical-align: top\">A38NELQT98S4H8</td>\n",
       "        <td style=\"padding-left: 1em; padding-right: 1em; text-align: center; vertical-align: top\">W. B. Halper</td>\n",
       "    </tr>\n",
       "    <tr>\n",
       "        <td style=\"padding-left: 1em; padding-right: 1em; text-align: center; vertical-align: top\">B00000JBLH</td>\n",
       "        <td style=\"padding-left: 1em; padding-right: 1em; text-align: center; vertical-align: top\">[0, 0]</td>\n",
       "        <td style=\"padding-left: 1em; padding-right: 1em; text-align: center; vertical-align: top\">5.0</td>\n",
       "        <td style=\"padding-left: 1em; padding-right: 1em; text-align: center; vertical-align: top\">Bought this for my boss<br>because he lost his.  He ...</td>\n",
       "        <td style=\"padding-left: 1em; padding-right: 1em; text-align: center; vertical-align: top\">11 14, 2013</td>\n",
       "        <td style=\"padding-left: 1em; padding-right: 1em; text-align: center; vertical-align: top\">AA8M6331NI1EN</td>\n",
       "        <td style=\"padding-left: 1em; padding-right: 1em; text-align: center; vertical-align: top\">ZombieMom</td>\n",
       "    </tr>\n",
       "    <tr>\n",
       "        <td style=\"padding-left: 1em; padding-right: 1em; text-align: center; vertical-align: top\">B00000JBLU</td>\n",
       "        <td style=\"padding-left: 1em; padding-right: 1em; text-align: center; vertical-align: top\">[3, 3]</td>\n",
       "        <td style=\"padding-left: 1em; padding-right: 1em; text-align: center; vertical-align: top\">5.0</td>\n",
       "        <td style=\"padding-left: 1em; padding-right: 1em; text-align: center; vertical-align: top\">This is a well-designed,<br>simple calculator that ...</td>\n",
       "        <td style=\"padding-left: 1em; padding-right: 1em; text-align: center; vertical-align: top\">12 7, 2010</td>\n",
       "        <td style=\"padding-left: 1em; padding-right: 1em; text-align: center; vertical-align: top\">A25C2M3QF9G7OQ</td>\n",
       "        <td style=\"padding-left: 1em; padding-right: 1em; text-align: center; vertical-align: top\">Comdet</td>\n",
       "    </tr>\n",
       "    <tr>\n",
       "        <td style=\"padding-left: 1em; padding-right: 1em; text-align: center; vertical-align: top\">B00000JBLU</td>\n",
       "        <td style=\"padding-left: 1em; padding-right: 1em; text-align: center; vertical-align: top\">[0, 0]</td>\n",
       "        <td style=\"padding-left: 1em; padding-right: 1em; text-align: center; vertical-align: top\">5.0</td>\n",
       "        <td style=\"padding-left: 1em; padding-right: 1em; text-align: center; vertical-align: top\">I love this calculator,<br>big numbers and calcu ...</td>\n",
       "        <td style=\"padding-left: 1em; padding-right: 1em; text-align: center; vertical-align: top\">12 2, 2013</td>\n",
       "        <td style=\"padding-left: 1em; padding-right: 1em; text-align: center; vertical-align: top\">A1RTVWTWZSIC94</td>\n",
       "        <td style=\"padding-left: 1em; padding-right: 1em; text-align: center; vertical-align: top\">Hb \"Black Beauty\"</td>\n",
       "    </tr>\n",
       "</table>\n",
       "<table frame=\"box\" rules=\"cols\">\n",
       "    <tr>\n",
       "        <th style=\"padding-left: 1em; padding-right: 1em; text-align: center\">summary</th>\n",
       "        <th style=\"padding-left: 1em; padding-right: 1em; text-align: center\">unixReviewTime</th>\n",
       "    </tr>\n",
       "    <tr>\n",
       "        <td style=\"padding-left: 1em; padding-right: 1em; text-align: center; vertical-align: top\">A solid performer, and<br>long time friend ...</td>\n",
       "        <td style=\"padding-left: 1em; padding-right: 1em; text-align: center; vertical-align: top\">1094169600</td>\n",
       "    </tr>\n",
       "    <tr>\n",
       "        <td style=\"padding-left: 1em; padding-right: 1em; text-align: center; vertical-align: top\">Price of GOLD is up, so<br>don't bury the golden ...</td>\n",
       "        <td style=\"padding-left: 1em; padding-right: 1em; text-align: center; vertical-align: top\">1197676800</td>\n",
       "    </tr>\n",
       "    <tr>\n",
       "        <td style=\"padding-left: 1em; padding-right: 1em; text-align: center; vertical-align: top\">Good functionality, but<br>not durable like old HPs ...</td>\n",
       "        <td style=\"padding-left: 1em; padding-right: 1em; text-align: center; vertical-align: top\">1293840000</td>\n",
       "    </tr>\n",
       "    <tr>\n",
       "        <td style=\"padding-left: 1em; padding-right: 1em; text-align: center; vertical-align: top\">One of the last of an<br>almost extinct species ...</td>\n",
       "        <td style=\"padding-left: 1em; padding-right: 1em; text-align: center; vertical-align: top\">1145404800</td>\n",
       "    </tr>\n",
       "    <tr>\n",
       "        <td style=\"padding-left: 1em; padding-right: 1em; text-align: center; vertical-align: top\">Still the best</td>\n",
       "        <td style=\"padding-left: 1em; padding-right: 1em; text-align: center; vertical-align: top\">1375574400</td>\n",
       "    </tr>\n",
       "    <tr>\n",
       "        <td style=\"padding-left: 1em; padding-right: 1em; text-align: center; vertical-align: top\">Every MBA student and<br>grad should get one ...</td>\n",
       "        <td style=\"padding-left: 1em; padding-right: 1em; text-align: center; vertical-align: top\">1011744000</td>\n",
       "    </tr>\n",
       "    <tr>\n",
       "        <td style=\"padding-left: 1em; padding-right: 1em; text-align: center; vertical-align: top\">A workhorse of a<br>calculator ...</td>\n",
       "        <td style=\"padding-left: 1em; padding-right: 1em; text-align: center; vertical-align: top\">1168992000</td>\n",
       "    </tr>\n",
       "    <tr>\n",
       "        <td style=\"padding-left: 1em; padding-right: 1em; text-align: center; vertical-align: top\">Fast shipping &amp; great<br>price for this awesome ...</td>\n",
       "        <td style=\"padding-left: 1em; padding-right: 1em; text-align: center; vertical-align: top\">1384387200</td>\n",
       "    </tr>\n",
       "    <tr>\n",
       "        <td style=\"padding-left: 1em; padding-right: 1em; text-align: center; vertical-align: top\">Nice design, works well,<br>great value ...</td>\n",
       "        <td style=\"padding-left: 1em; padding-right: 1em; text-align: center; vertical-align: top\">1291680000</td>\n",
       "    </tr>\n",
       "    <tr>\n",
       "        <td style=\"padding-left: 1em; padding-right: 1em; text-align: center; vertical-align: top\">Love It!!!!!!!!!</td>\n",
       "        <td style=\"padding-left: 1em; padding-right: 1em; text-align: center; vertical-align: top\">1385942400</td>\n",
       "    </tr>\n",
       "</table>\n",
       "[10 rows x 9 columns]<br/>\n",
       "</div>"
      ],
      "text/plain": [
       "Columns:\n",
       "\tasin\tstr\n",
       "\thelpful\tlist\n",
       "\toverall\tfloat\n",
       "\treviewText\tstr\n",
       "\treviewTime\tstr\n",
       "\treviewerID\tstr\n",
       "\treviewerName\tstr\n",
       "\tsummary\tstr\n",
       "\tunixReviewTime\tint\n",
       "\n",
       "Rows: 10\n",
       "\n",
       "Data:\n",
       "+------------+----------+---------+-------------------------------+-------------+\n",
       "|    asin    | helpful  | overall |           reviewText          |  reviewTime |\n",
       "+------------+----------+---------+-------------------------------+-------------+\n",
       "| B00000JBLH |  [3, 4]  |   5.0   | I bought my first HP12C in... |  09 3, 2004 |\n",
       "| B00000JBLH |  [7, 9]  |   5.0   | WHY THIS BELATED REVIEW? I... | 12 15, 2007 |\n",
       "| B00000JBLH |  [3, 3]  |   2.0   | I have an HP 48GX that has... |  01 1, 2011 |\n",
       "| B00000JBLH |  [7, 8]  |   5.0   | I've started doing more fi... | 04 19, 2006 |\n",
       "| B00000JBLH |  [0, 0]  |   5.0   | For simple calculations an... |  08 4, 2013 |\n",
       "| B00000JBLH | [10, 12] |   5.0   | While I don't have an MBA,... | 01 23, 2002 |\n",
       "| B00000JBLH |  [3, 4]  |   5.0   | I've had an HP 12C ever si... | 01 17, 2007 |\n",
       "| B00000JBLH |  [0, 0]  |   5.0   | Bought this for my boss be... | 11 14, 2013 |\n",
       "| B00000JBLU |  [3, 3]  |   5.0   | This is a well-designed, s... |  12 7, 2010 |\n",
       "| B00000JBLU |  [0, 0]  |   5.0   | I love this calculator, bi... |  12 2, 2013 |\n",
       "+------------+----------+---------+-------------------------------+-------------+\n",
       "+----------------+---------------------+-------------------------------+\n",
       "|   reviewerID   |     reviewerName    |            summary            |\n",
       "+----------------+---------------------+-------------------------------+\n",
       "| A32T2H8150OJLU |         ARH         | A solid performer, and lon... |\n",
       "| A3MAFS04ZABRGO |   Let it Be \"Alan\"  | Price of GOLD is up, so do... |\n",
       "| A1F1A0QQP2XVH5 |        Mark B       | Good functionality, but no... |\n",
       "| A49R5DBXXQDE5  |     R. D Johnson    | One of the last of an almo... |\n",
       "| A2XRMQA6PJ5ZJ8 | Roger J. Buffington |         Still the best        |\n",
       "| A2JFOHC9W629IE |  scott_from_dallas  | Every MBA student and grad... |\n",
       "| A38NELQT98S4H8 |     W. B. Halper    |  A workhorse of a calculator  |\n",
       "| AA8M6331NI1EN  |      ZombieMom      | Fast shipping & great pric... |\n",
       "| A25C2M3QF9G7OQ |        Comdet       | Nice design, works well, g... |\n",
       "| A1RTVWTWZSIC94 |  Hb \"Black Beauty\"  |        Love It!!!!!!!!!       |\n",
       "+----------------+---------------------+-------------------------------+\n",
       "+----------------+\n",
       "| unixReviewTime |\n",
       "+----------------+\n",
       "|   1094169600   |\n",
       "|   1197676800   |\n",
       "|   1293840000   |\n",
       "|   1145404800   |\n",
       "|   1375574400   |\n",
       "|   1011744000   |\n",
       "|   1168992000   |\n",
       "|   1384387200   |\n",
       "|   1291680000   |\n",
       "|   1385942400   |\n",
       "+----------------+\n",
       "[10 rows x 9 columns]"
      ]
     },
     "execution_count": 3,
     "metadata": {},
     "output_type": "execute_result"
    }
   ],
   "source": [
    "## Exploring the dataset\n",
    "Office_Products.head()"
   ]
  },
  {
   "cell_type": "code",
   "execution_count": 4,
   "metadata": {
    "collapsed": false
   },
   "outputs": [
    {
     "data": {
      "text/plain": [
       "53258"
      ]
     },
     "execution_count": 4,
     "metadata": {},
     "output_type": "execute_result"
    }
   ],
   "source": [
    "## Counting the number of rows \n",
    "len(Office_Products)"
   ]
  },
  {
   "cell_type": "code",
   "execution_count": 20,
   "metadata": {
    "collapsed": false
   },
   "outputs": [
    {
     "name": "stdout",
     "output_type": "stream",
     "text": [
      "Canvas is updated and available in a tab in the default browser.\n"
     ]
    }
   ],
   "source": [
    "## Checking the rating distribution. Most reviews have a 5 rating.\n",
    "Office_Products['overall'].show(view='Categorical') "
   ]
  },
  {
   "cell_type": "code",
   "execution_count": 18,
   "metadata": {
    "collapsed": false
   },
   "outputs": [
    {
     "data": {
      "application/javascript": [
       "$(\"head\").append($(\"<link/>\").attr({\n",
       "  rel:  \"stylesheet\",\n",
       "  type: \"text/css\",\n",
       "  href: \"//cdnjs.cloudflare.com/ajax/libs/font-awesome/4.1.0/css/font-awesome.min.css\"\n",
       "}));\n",
       "$(\"head\").append($(\"<link/>\").attr({\n",
       "  rel:  \"stylesheet\",\n",
       "  type: \"text/css\",\n",
       "  href: \"//dato.com/files/canvas/1.8.5/css/canvas.css\"\n",
       "}));\n",
       "\n",
       "            (function(){\n",
       "\n",
       "                var e = null;\n",
       "                if (typeof element == 'undefined') {\n",
       "                    var scripts = document.getElementsByTagName('script');\n",
       "                    var thisScriptTag = scripts[scripts.length-1];\n",
       "                    var parentDiv = thisScriptTag.parentNode;\n",
       "                    e = document.createElement('div');\n",
       "                    parentDiv.appendChild(e);\n",
       "                } else {\n",
       "                    e = element[0];\n",
       "                }\n",
       "\n",
       "                if (typeof requirejs !== 'undefined') {\n",
       "                    // disable load timeout; ipython_app.js is large and can take a while to load.\n",
       "                    requirejs.config({waitSeconds: 0});\n",
       "                }\n",
       "\n",
       "                require(['//dato.com/files/canvas/1.8.5/js/ipython_app.js'], function(IPythonApp){\n",
       "                    var app = new IPythonApp();\n",
       "                    app.attachView('sarray','Categorical', {\"ipython\": true, \"sketch\": {\"std\": 0.9302411403540471, \"complete\": true, \"min\": 1.0, \"max\": 5.0, \"quantile\": [1.0, 1.0, 1.0, 2.0, 2.0, 2.0, 3.0, 3.0, 3.0, 3.0, 3.0, 3.0, 3.0, 3.0, 3.0, 4.0, 4.0, 4.0, 4.0, 4.0, 4.0, 4.0, 4.0, 4.0, 4.0, 4.0, 4.0, 4.0, 4.0, 4.0, 4.0, 4.0, 4.0, 4.0, 4.0, 4.0, 4.0, 4.0, 4.0, 4.0, 4.0, 4.0, 4.0, 4.0, 5.0, 5.0, 5.0, 5.0, 5.0, 5.0, 5.0, 5.0, 5.0, 5.0, 5.0, 5.0, 5.0, 5.0, 5.0, 5.0, 5.0, 5.0, 5.0, 5.0, 5.0, 5.0, 5.0, 5.0, 5.0, 5.0, 5.0, 5.0, 5.0, 5.0, 5.0, 5.0, 5.0, 5.0, 5.0, 5.0, 5.0, 5.0, 5.0, 5.0, 5.0, 5.0, 5.0, 5.0, 5.0, 5.0, 5.0, 5.0, 5.0, 5.0, 5.0, 5.0, 5.0, 5.0, 5.0, 5.0, 5.0], \"median\": 5.0, \"numeric\": true, \"num_unique\": 5, \"num_undefined\": 0, \"var\": 0.865348579207198, \"progress\": 1.0, \"size\": 53258, \"frequent_items\": {\"1.0\": {\"frequency\": 1130, \"value\": 1.0}, \"2.0\": {\"frequency\": 1726, \"value\": 2.0}, \"3.0\": {\"frequency\": 5060, \"value\": 3.0}, \"4.0\": {\"frequency\": 15015, \"value\": 4.0}, \"5.0\": {\"frequency\": 30327, \"value\": 5.0}}, \"mean\": 4.345957414848473}, \"selected_variable\": {\"name\": [\"<SArray>\"], \"dtype\": \"float\", \"view_component\": \"Categorical\", \"view_file\": \"sarray\", \"descriptives\": {\"rows\": 53258}, \"type\": \"SArray\", \"view_components\": [\"Numeric\", \"Categorical\"]}, \"histogram\": {\"progress\": 1.0, \"histogram\": {\"max\": 5.076199999999998, \"bins\": [1130, 0, 0, 1726, 0, 5060, 0, 0, 15015, 0, 0, 30327], \"min\": 0.929000000000014}, \"min\": 1.0, \"complete\": 1, \"max\": 5.0}}, e);\n",
       "                });\n",
       "            })();\n",
       "        "
      ]
     },
     "metadata": {},
     "output_type": "display_data"
    }
   ],
   "source": [
    "## Checking the rating distribution. Most reviews have a 5 rating. 30,327 votes (56.944%)\n",
    "Office_Products['overall'].show(view='Categorical') "
   ]
  },
  {
   "cell_type": "code",
   "execution_count": 6,
   "metadata": {
    "collapsed": true
   },
   "outputs": [],
   "source": [
    "# building a word count vector for each review \n",
    "Office_Products['word_count'] = graphlab.text_analytics.count_words(Office_Products['reviewText'])"
   ]
  },
  {
   "cell_type": "code",
   "execution_count": 8,
   "metadata": {
    "collapsed": false
   },
   "outputs": [
    {
     "data": {
      "text/plain": [
       "dtype: dict\n",
       "Rows: 10\n",
       "[{'area.': 1L, 'hand,': 1L, 'over': 1L, 'move': 1L, 'aside': 1L, 'batteries': 1L, 'decade': 1L, '12c,': 2L, 'powerful,': 1L, 'counterintuitive...and': 1L, 'to': 7L, 'other': 1L, '(now': 1L, 'mistake!': 1L, 'it,': 1L, 'good': 1L, '49g': 3L, 'know': 1L, 'using': 1L, 'one': 2L, 'best.': 1L, \"order.i'm\": 1L, 'lost': 1L, 'manual': 2L, 'me.if': 1L, 'served': 1L, 'view': 1L, 'set': 1L, 'old': 1L, 'people': 1L, 'back': 1L, 'decided': 1L, 'are': 1L, 'even': 1L, 'will': 1L, 'what': 2L, 'for': 4L, 'calculator,': 1L, 'looking': 1L, 'does': 2L, 'travelling.': 1L, 'bought': 1L, 'be': 3L, 'business': 1L, 'found': 1L, 'come': 1L, 'by': 1L, 'on': 1L, 'about': 1L, 'of': 2L, 'sketchy': 1L, \"it's\": 1L, \"i'm\": 1L, 'programmable.': 1L, 'or': 1L, 'first': 1L, 'too.': 1L, 'sense;': 1L, 'replace': 2L, 'another': 1L, '1984': 1L, 'statistics': 1L, '49g.': 1L, 'faithfully': 1L, 'home!': 1L, 'way': 1L, 'basic': 1L, 'was': 2L, 'until': 1L, 'you.': 1L, 'buy': 1L, 'that': 3L, 'hp': 3L, 'so,': 2L, 'but': 3L, 'me': 2L, 'reliable': 1L, 'up': 2L, 'flagship': 1L, 'while': 1L, 'many': 2L, 'my': 4L, 'and': 5L, 'friend.': 1L, 'purchased': 1L, 'disaster.the': 1L, 'is': 1L, 'sense': 1L, \"didn't\": 1L, 'it': 4L, 'an': 1L, 'well,': 1L, 'as': 1L, 'at': 1L, 'have': 1L, 'in': 5L, 'ready': 1L, 'when': 1L, 'solid,': 1L, 'need': 1L, 'line,': 1L, '49g+)': 1L, 'you': 2L, 'use!hp': 1L, 'difficult': 1L, 'may': 2L, 'applications': 1L, 'running': 1L, 'coming': 1L, 'extremely': 1L, 'a': 5L, 'short': 1L, 'i': 7L, 'makes': 2L, 'well': 1L, '2002': 1L, 'searched': 1L, 'the': 9L, 'hp12c': 2L}, {'all': 3L, 'ever.': 1L, 'four': 1L, 'desktops': 1L, 'ii.golden': 1L, 'iii': 1L, '12cs,': 1L, 'to': 17L, 'charge': 1L, 'siblings': 1L, 'very': 3L, 'fan': 2L, 'hp12cpae': 1L, 'continued': 1L, 'did': 1L, 'broken,': 1L, 'segment.': 1L, 'force': 1L, 'portable': 1L, 'jump': 1L, 'ardent': 1L, 'even': 1L, 'hewlett-packard': 2L, 'product,': 2L, 'gold.': 2L, 'ever': 1L, 'team.': 1L, '50th': 3L, 'never': 1L, 'let': 1L, 'platinium,': 1L, 'outdone': 1L, 'bearer.': 1L, 'products': 1L, 'here,': 1L, 'calculators': 1L, 'above.to': 1L, 'successors': 3L, 'golden': 3L, 'love': 1L, 'case,': 1L, 'myself,': 1L, '1st': 1L, 'market': 1L, 'from': 4L, 'would': 10L, '&': 3L, 'remains': 1L, 'standard.': 1L, 'doubt': 1L, 'taken': 1L, 'right.': 1L, '25th': 2L, 'review?': 1L, 'calculator': 8L, 'logo,': 1L, 'fans.for': 1L, 'retire\"': 1L, 'sharing': 1L, 'series,': 1L, 'tested': 2L, 'effort': 1L, 'customer': 1L, 'ii': 1L, 'none': 1L, 'ibm': 2L, 'rights': 1L, 'this': 13L, 'functions.imho,': 1L, 'challenge': 1L, 'lenovo.golden': 1L, 'v': 1L, 'following': 1L, 'my': 3L, 'owners,': 1L, 'heldheld': 2L, 'ower': 1L, 'share': 1L, '!': 1L, 'needs': 1L, 'thinkpads': 1L, 'line,': 1L, '2031,': 1L, 'product': 9L, 'paramount': 1L, 'hp17bs,': 1L, 'after': 3L, 'products,': 1L, 'date': 1L, 'a': 13L, 'realized': 1L, 'attempt': 1L, 'amazon.com,': 1L, 'so': 1L, 'ultimate': 3L, 'benchmarking': 1L, 'decide': 1L, \"don't\": 1L, 'indeed': 1L, 'satisfied': 1L, 'years': 1L, 'including': 1L, 'still': 2L, 'its': 16L, 'before': 1L, 'thumb': 1L, 'personal': 2L, 'fix': 1L, '1oth': 1L, 'handheld': 2L, 'fair,': 1L, 'better': 1L, 'production': 1L, 'occasion,': 2L, 'happened': 1L, 'someone': 1L, 'views': 2L, 'they': 2L, 'milestone': 1L, 'not': 8L, 'now': 1L, 'silver': 2L, 'sofware': 1L, 'name': 2L, 'always': 4L, 'segment.the': 1L, 'rise,': 1L, 'generation': 1L, 'series': 1L, 'year': 2L, 'happen': 1L, 'out': 1L, '3rd': 1L, 'quality': 3L, 'since': 3L, 'may': 1L, 'seriously': 1L, 'model': 2L, 'frank': 1L, 'million': 1L, 'standard': 5L, 'lucrative': 1L, 'ask': 1L, 'owners': 2L, 'could': 2L, 'computers': 2L, 'hp12cplatinum': 3L, 'respect!': 1L, 'place': 1L, 'first': 1L, 'major': 1L, 'surviving': 1L, 'feel': 1L, 'synonymous': 1L, 'release,': 2L, 'electronic': 2L, 'infringed': 1L, 'least': 1L, 'their': 2L, 'listen': 2L, 'selling': 2L, 'that': 7L, 'dethroned': 1L, 'part': 1L, 'finance-business': 1L, 'somewhat': 1L, 'forward,': 1L, 'than': 2L, 'professionals': 1L, '15': 1L, 'rival': 1L, ',it': 1L, 'i': 7L, 'were': 1L, 'powers': 1L, '1,': 1L, 'and': 30L, 'customers!': 1L, 'mind': 1L, '(and': 1L, 'have': 2L, 'sells': 1L, 'any': 2L, 'praising': 1L, 'genuine': 1L, 'built': 1L, '-': 6L, 'majority': 2L, 'on.anyone': 1L, 'amusing': 1L, 'which': 3L, 'reckon': 1L, 'price': 2L, 'who': 1L, 'hp10bii': 1L, \"'81\": 1L, 'why': 2L, 'especially': 2L, 'ever.as': 1L, '\"portable\"': 1L, '\"golden': 1L, 'hp10bs': 1L, '12c': 8L, 'gold': 9L, 'obsolete.golden': 1L, 'anniversary': 7L, \"hp12c's\": 1L, 'find': 1L, 'based': 1L, 'should': 3L, '\"gold\"': 2L, 'only': 2L, 'factor': 1L, 'do': 1L, 'guarded': 1L, 'hit': 1L, 'retired.as': 1L, 'solution,': 1L, 'bear': 1L, 'truly': 1L, 'amazon': 1L, 'longest': 1L, 'differentiating': 1L, 'release': 1L, 'gospel': 1L, 'engraved': 1L, 'view': 1L, 'spotted': 1L, 'burying': 1L, 'edition': 1L, 'see': 2L, 'computer': 1L, 'now,': 1L, 'best': 2L, 'hp17bii+': 1L, 'please': 2L, 'fans': 2L, 'probably': 2L, 'terms': 1L, 'missing': 1L, 'sold': 1L, 'line-it': 1L, 'come': 1L, 'users.to': 1L, 'hits': 1L, 'users.golden': 1L, 'according': 1L, 'fan.': 1L, 'however,': 2L, 'disappears': 1L, '2007),': 1L, 'doubt,': 1L, 'seems': 1L, 'upgrades': 1L, 'reasoning,': 1L, 'platinum': 2L, \"aren't\": 1L, 'three': 3L, 'been': 1L, 'mark': 2L, 'rivals': 1L, 'matured': 1L, 'treat': 1L, 'expected': 1L, 'unchanged': 1L, 'discontinuing': 1L, 'offered': 1L, 'observe': 1L, 'hp...golden': 1L, 'look': 1L, 'upmost': 1L, 'workhorse,': 1L, 'frustrating': 1L, 'almost': 1L, 'vi': 1L, 'is': 19L, 'it': 9L, 'iv': 1L, 'disappointing': 1L, 'itself': 1L, 'in': 12L, 'if': 7L, 'same': 1L, 'read': 1L, 'calculators,': 1L, 'reminder': 1L, 'day': 3L, 'hp12c.': 1L, 'hp12c,': 1L, 'sold,': 1L, \"hp's\": 2L, 'companion': 1L, 'user': 1L, 'opportunity': 1L, 'hp12cpa).to': 1L, \"customers.don't\": 1L, '11c,': 1L, 'spent': 1L, 'the': 72L, 'thinkcentres.since': 1L, 'go.even': 1L, 'bearer': 1L, 'just': 3L, 'being': 1L, 'using': 1L, 'customer,': 1L, 'speculate': 1L, 'had': 4L, 'handy': 1L, '4': 1L, 'quality.': 1L, 'has': 2L, 'remaining': 1L, 'rules': 3L, 'discontinue': 2L, '(december': 1L, 'outsource': 1L, 'know': 1L, 'listening': 1L, 'immediately': 1L, '(2006': 1L, '(2004': 1L, 'like': 2L, 'proposition.': 1L, 'rpn)': 1L, 'works': 1L, 'right': 1L, 'old': 2L, '\"fix': 1L, 'obliged': 1L, 'platiunum': 1L, 'alike.': 1L, 'home': 1L, 'for': 6L, 'students': 1L, 'does': 1L, 'exit': 1L, 'action.the': 1L, 'be': 8L, 'run': 2L, 'scientific': 1L, 'business': 6L, 'continuing': 1L, 'iconic': 1L, 'disappeared': 1L, 'non-techkie': 1L, 'remaking': 1L, 'manufacturing': 1L, 'by': 7L, 'on': 6L, 'about': 3L, 'hp12cp)': 1L, 'of': 25L, 'industry': 1L, 'range': 1L, 'testimony': 2L, 'or': 2L, 'software': 1L, 'boy\"': 1L, 'own': 4L, 'into': 1L, 'two': 2L, 'because': 1L, 'financial': 3L, 'your': 4L, 'pc': 1L, 'indispensable': 1L, '2004.it': 1L, 'intention': 1L, 'futile': 1L, 'was': 1L, 'form': 2L, 'hp': 22L, 'brandname': 2L, 'survived': 1L, 'line': 3L, 'highest': 1L, 'with': 7L, 'belated': 1L, 'versions': 1L, 'up': 1L, 'customers.golden': 1L, 'replacing': 1L, 'fans.': 1L, 'fans,': 1L, 'am': 2L, 'proven': 2L, 'an': 1L, 'as': 2L, 'at': 2L, 'moves': 1L, 'nerd': 1L, '\"retro\"': 1L, 'puzzling': 1L, 'no': 1L, 'when': 2L, 'field': 1L, 'other': 2L, 'realize': 1L, 'nice': 2L, 'users': 1L, 'models': 2L, 'time': 1L, 'fans.looking': 1L, 'rightful': 1L, 'cps': 1L, 'faster': 1L, 'rule': 7L, 'original': 1L, 'workhorse': 2L, 'hp,': 2L, 'serious': 1L, '\"the': 1L, 'hp12c': 21L}, {'and': 4L, '12c': 1L, 'old': 1L, 'classic': 1L, 'feel': 2L, 'is': 4L, 'hard': 1L, 'flawless.': 1L, 'it': 1L, 'hollow': 1L, 'already': 1L, 'are': 2L, 'have': 2L, 'years': 2L, 'still': 1L, '48gx': 1L, 'if': 1L, '25': 1L, 'functions': 2L, 'number': 1L, 'calculator.': 1L, 'for': 3L, 'no': 3L, 'giving': 1L, 'twenty': 1L, 'abuse.': 1L, 'had': 1L, 'been': 1L, 'than': 2L, 'to': 2L, '5': 1L, 'new': 1L, 'has': 1L, 'more': 2L, 'available': 1L, 'me': 1L, 'good': 1L, 'that': 2L, 'keys': 2L, 'overall': 1L, 'hp': 3L, 'stop': 1L, 'but': 1L, 'cheaper': 1L, 'drops,': 1L, 'kicking': 1L, 'a': 1L, 'key': 1L, 'press': 1L, 'trouble': 1L, 'an': 2L, 'great.': 1L, 'plastic.': 1L, '11': 1L, 'about': 1L, 'register).': 1L, 'i': 2L, 'of': 1L, 'months': 1L, 'light.': 1L, '(have': 1L, 'this': 3L, '18': 1L, 'the': 6L, 'working...': 1L}, {'12c': 2L, 'stamped': 1L, 'cellphones,': 1L, \"don't\": 2L, 'money': 1L, 'accurate': 1L, 'calculations.': 2L, 'rest': 1L, 'years': 1L, '32sii': 2L, 'batteries': 1L, 'graphing': 3L, 'computation': 1L, 'invariably': 1L, 'mean,': 1L, 'still': 1L, 'speed': 2L, 'find': 5L, 'regular': 1L, 'departed': 1L, 'owned.it': 1L, 'slow': 1L, 'work,': 1L, 'waste': 1L, 'fit': 1L, 'true': 1L, 'will': 4L, 'solving': 1L, 'had': 1L, 'capabilities': 1L, 'desktop': 1L, 'better': 1L, 'feel': 2L, 'going': 2L, 'quickly.': 1L, 'ti': 2L, 'has': 4L, 'decades': 1L, 'easier': 1L, '(time': 1L, 'pdas': 1L, 'then': 1L, 'good': 2L, 'etc.)': 1L, 'finance': 1L, 'straightforward': 3L, 'pull': 1L, 'far': 1L, 'entry.*)': 1L, '99%': 1L, 'enough,': 1L, 'casio': 1L, 'every': 2L, \"you've\": 1L, 'not': 1L, 'using': 1L, 'etc).': 1L, 'now': 1L, 'day': 1L, 'is': 12L, 'and': 17L, \"'dated',\": 1L, 'like': 5L, 'calculator--maybe': 1L, 'always': 1L, 'level': 1L, 'calculator?*)': 1L, 'these': 1L, 'durability.why': 1L, '(or': 1L, 'mode': 1L, 'quick': 1L, 'went': 1L, 'available.': 1L, 'replacement,': 1L, 'complicated,': 1L, 'rpn.': 1L, 'pain': 1L, 'because': 1L, 'financial': 4L, '*know*': 1L, 'crowd': 1L, 'fairly': 1L, 'doing': 2L, 'me,': 1L, 'keyboard': 1L, 'some': 3L, 'hp12c,': 1L, 'dedicated': 1L, 'computations.': 1L, 'answer,': 1L, \"china'\": 1L, 'who,': 1L, 'college': 2L, 'are': 1L, 'dear': 1L, 'calculator.*)': 1L, 'quick,': 1L, 'tactile': 1L, 'reviews': 1L, 'what': 1L, 'degree': 1L, 'finish,': 1L, 'power': 1L, 'for': 9L, 'calculator,': 1L, 'pictures': 1L, 'irr': 2L, 'looking': 1L, 'keys': 1L, 'stuff': 1L, 'suspect': 1L, 'thrifty': 1L, 'years.': 1L, 'hopefully': 1L, 'probably': 1L, 'get': 1L, 'hp-15': 1L, 'answers.': 1L, 'math': 1L, 'can': 1L, 'be': 1L, 'program': 1L, 'recently': 1L, 'do': 3L, 'this,': 1L, 'anyway.': 1L, 'punch-it-in': 1L, 'complement': 1L, 'never': 1L, 'answers': 1L, 'standard': 2L, 'pleasant': 1L, 'purpose-built': 1L, 'started': 1L, 'parenthesis,': 1L, 'hp-32sii)': 1L, 'legacy.': 1L, 'along': 1L, \"haven't\": 1L, 'entry.': 1L, 'code.i': 1L, 'care': 1L, 'premise--feels': 1L, 'great': 2L, \"black-scholl's\": 1L, 'last': 1L, 'consumption.': 1L, 'world,': 1L, 'exhausted.': 1L, 'high-end': 1L, 'many': 1L, 'taking': 1L, 'computers': 1L, 'programming': 2L, 'display': 1L, 'brands.': 1L, 'walmart': 2L, 'calculators': 3L, 'however,': 2L, 'entered': 1L, 'whole': 1L, 'or': 4L, 'functions': 2L, 'nearby,': 1L, 'this': 8L, 'an': 1L, 'key': 1L, 'battery': 1L, 'seems': 2L, 'solve': 1L, 'owned': 1L, 'one': 2L, 'depreciation,': 1L, 'nothing': 1L, 'right': 1L, 'been': 1L, 'directly': 1L, 'correctly.': 1L, 'capable': 1L, 'trust': 1L, 'tools': 1L, 'your': 3L, 'rpn': 1L, 'fire': 1L, \"you're\": 5L, 'use': 2L, 'factorial,': 1L, 'to': 8L, \"it's\": 3L, 'why,': 1L, 'fast': 1L, 'ways.': 1L, 'their': 1L, 'fingertips.': 1L, 'much': 1L, 'just': 3L, 'way': 2L, 'basic': 1L, 'right.': 2L, 'pleasantly': 1L, 'was': 3L, 'suppose,': 1L, 'more': 3L, 'feedback.': 1L, 'buy': 2L, 'relic': 1L, 'option': 1L, 'on': 6L, 'what?': 1L, 'hp': 4L, 'recommend': 1L, 'about': 2L, 'but': 3L, \"doesn't\": 1L, 'sure,': 1L, 'occurence': 1L, '$5': 2L, 'with': 6L, 'than': 2L, 'those': 1L, '10': 1L, \"'made\": 1L, 'high-quality': 1L, '(amortization,': 1L, 'whether': 1L, 'science': 1L, 'when': 3L, 'dodo': 1L, 'up': 2L, 'us': 1L, '(hp-45,': 1L, 'personally,': 1L, 'computer': 1L, 'era': 1L, 'of': 14L, 'problem': 1L, 'balance': 1L, 'my': 5L, 'could': 1L, 'under-30': 1L, 'something': 1L, 'equations,': 1L, 'bird.': 1L, 'brands.*)': 1L, 'have': 3L, 'fit,': 1L, 'almost': 1L, 'certain': 1L, 'calculator': 13L, '(ln,': 1L, 'it': 7L, 'durability.)': 1L, 'beats': 1L, 'at': 1L, 'want': 1L, 'in': 7L, 'need': 3L, '15c.': 1L, \"i've\": 4L, 'any': 1L, 'if': 6L, 'npv,': 1L, 'par': 1L, 'require,': 1L, 'date': 1L, 'rear,': 1L, 'hps': 1L, 'things': 2L, 'that': 4L, 'excel': 1L, 'complexity': 1L, 'same': 3L, 'useful.': 1L, 'write': 2L, 'also': 2L, 'computer.': 1L, 'take': 1L, 'which': 1L, 'performance': 1L, 'you': 3L, 'calculators.': 1L, 'deviation,': 1L, 'simplicity': 1L, 'tell,': 1L, 'used': 1L, 'immediate': 1L, 'see': 1L, 'may': 1L, 'price': 1L, 'earlier': 1L, 'reach': 1L, 'long-lasting': 2L, 'keys,': 1L, 'most': 1L, 'speed.': 1L, 'purpose': 2L, 'student': 2L, 'long-term': 1L, 'exercises': 1L, 'spreadsheet': 1L, 'time-value-of-money': 1L, 'data': 2L, 'exams,': 1L, 'calculator.': 4L, 'a': 22L, 'spreadsheet.': 1L, 'operate': 1L, 'off': 1L, 'finish.': 1L, 'functions,': 1L, 'i': 11L, 'quality.': 1L, 'age': 1L, 'blinks': 1L, 'casio).': 1L, 'think': 1L, 'complaining': 1L, \"you'll\": 1L, 'without': 1L, 'so': 1L, 'push': 1L, 'the': 36L, 'surprised': 1L, 'hp12c': 2L, \"they're\": 2L}, {'office': 1L, 'flows,': 1L, 'years': 1L, 'course': 1L, 'superb.': 1L, 'polish': 1L, 'still': 1L, 'find': 1L, 'intuitive.': 1L, 'to': 3L, 'easy': 2L, 'spreadsheet;': 1L, 'notation': 1L, 'best.': 1L, 'lost': 1L, 'this': 4L, 'quick': 1L, 'financial': 1L, 'some': 1L, 'really': 1L, 'what': 1L, 'for': 4L, 'brackets': 1L, \"don't.\": 1L, 'got': 1L, 'be': 1L, 'business': 1L, 'arithmetical': 1L, 'on': 1L, 'reverse': 1L, 'of': 3L, 'place': 1L, 'expression': 1L, 'simple': 1L, 'one': 2L, 'rpn': 1L, 'use': 1L, 'takes': 1L, 'calculations': 2L, 'is': 5L, 'tool': 1L, 'but': 1L, 'another.': 1L, 'decades.': 1L, 'learn.the': 1L, 'uses,': 1L, 'me': 1L, 'practicing': 1L, 'these': 1L, 'want.personally': 1L, 'cash': 3L, 'will': 1L, 'many': 1L, 'my': 1L, 'and': 5L, 'calculator': 2L, 'am': 1L, 'it': 1L, 'an': 3L, 'hardware': 1L, 'as': 1L, 'want': 1L, 'in': 3L, 'rjb.': 1L, 'excel': 1L, 'purchasing': 1L, 'graduate': 1L, 'do;': 1L, 'complex': 1L, 'which': 1L, 'program,': 1L, 'you': 2L, 'used': 1L, 'move,': 1L, 'executive.': 1L, 'flows': 1L, 'a': 1L, 'discounted': 1L, 'i': 3L, 'cpa': 1L, 'flow': 1L, 'lasted': 1L, 'so': 1L, '(&#34;rpn&#34;),': 1L, 'the': 4L, 'hp12c': 1L}, {\"don't\": 1L, 'over': 1L, 'planning': 1L, 'during': 1L, 'on-the-fly': 1L, 'still': 1L, 'adding': 1L, 'capabilities': 1L, 'to': 9L, 'input': 1L, 'has': 1L, 'might': 1L, 'it.': 1L, 'do': 1L, 'finance': 1L, 'worthwhile.': 1L, 'know': 3L, 'not': 1L, 'using': 1L, 'day': 1L, 'immediately': 1L, 'level': 1L, 'pinch,': 1L, 'courses': 1L, 'payments': 1L, 'quick': 2L, 'found': 1L, 'works': 1L, \"isn't\": 1L, 'mba,': 1L, 'financial': 3L, 'series': 1L, 'hard': 2L, 'cash': 1L, 'out': 1L, 'for': 6L, 'computer.the': 1L, 'ti-8x': 1L, 'probably': 1L, 'learned': 1L, 'told': 1L, 'be': 1L, 'business': 1L, 'standard': 1L, 'output': 1L, 'calculator': 2L, 'on': 2L, 'pros,': 1L, '30': 1L, 'positive': 1L, 'calculators': 1L, '(at': 1L, \"can't\": 1L, 'etc.).': 1L, 'negative': 1L, 'excel.': 1L, 'done': 1L, 'undergraduate': 1L, 'rpn': 1L, '1987': 1L, 'use': 3L, \"it's\": 1L, 'value,': 1L, 'system': 1L, 'way': 1L, 'basic': 1L, 'was': 1L, '(i.e.': 1L, 'machine),': 1L, 'spit': 1L, 'that': 1L, 'needed.': 1L, 'but': 1L, 'it': 5L, 'believe': 1L, 'those': 1L, 'me': 1L, 'graphic': 1L, 'this': 1L, 'world.': 1L, 'this,': 1L, 'will': 1L, 'while': 2L, 'future': 1L, 'learn': 1L, 'similar': 2L, 'and': 6L, 'then': 1L, 'is': 1L, 'mine': 1L, 'an': 3L, 'numbers': 1L, 'have': 1L, 'in': 4L, 'need': 2L, 'any': 1L, 'if': 1L, 'functions': 2L, 'make': 1L, 'excel': 1L, 'how': 3L, 'other': 1L, 'take': 1L, 'answer': 1L, 'you': 2L, 'hp12c,': 1L, 'used': 1L, 'calculating': 1L, 'may': 1L, 'after': 1L, 'most': 1L, 'a': 7L, 'discounted': 1L, 'i': 6L, 'later': 1L, 'flow': 1L, 'analysis': 1L, 'professional': 1L, 'the': 7L}, {'12c': 2L, 'just': 1L, 'being': 1L, 'money': 2L, 'one,': 1L, 'years': 1L, 'polish': 2L, 'had': 1L, 'should': 1L, 'jan': 1L, 'to': 3L, 'only': 1L, 'easy': 1L, 'snap': 1L, 'do': 1L, 'mini-machine.the': 1L, 'ago.': 1L, 'use...in': 1L, 'finance': 1L, 'logic.)': 1L, 'get': 1L, 'very': 1L, 'mathematician,': 1L, \"i've\": 1L, 'every': 1L, 'they': 1L, 'new': 1L, 'notation.': 1L, 'method': 1L, 'essential.': 1L, 'financial': 1L, 'methods': 1L, 'purchased.': 1L, 'fact,': 1L, 'edition': 1L, 'see': 1L, 'entering': 1L, 'stands': 1L, 'for': 4L, 'calculator,': 1L, 'since': 1L, \"don't.\": 1L, 'lukasiewicz': 1L, '(by': 1L, 'probably': 1L, 'ever': 1L, 'available,': 1L, 'be': 1L, '(outside': 1L, 'business': 1L, 'die-hards,': 1L, 'learn': 1L, 'quite': 1L, 'completely': 1L, 'invented': 1L, 'equations': 1L, 'by': 1L, 'on': 1L, 'almost': 1L, 'reverse': 1L, 'anything': 1L, 'of': 3L, 'way,': 1L, \"i'm\": 1L, 'or': 1L, 'first': 1L, 'seems': 1L, 'into': 1L, 'symbolic': 1L, 'one': 2L, 'another': 1L, 'rpn': 4L, 'platinum': 1L, \"you're\": 1L, 'from': 1L, 'twenty': 1L, 'clumsy.': 1L, 'finally': 1L, 'few': 1L, 'way': 1L, 'dead.if': 1L, 'calculator': 1L, 'function': 1L, 'both': 1L, 'hp': 2L, 'but': 1L, 'it': 2L, 'with': 2L, 'buying': 1L, 'this': 2L, 'was': 1L, 'value': 1L, 'can': 1L, 'were': 1L, 'problem': 2L, 'my': 1L, 'and': 6L, 'process': 1L, 'is': 7L, 'it,': 1L, 'an': 1L, 'as': 1L, 'have': 1L, 'in': 2L, 'any': 2L, 'different': 1L, 'that': 4L, 'potential': 1L, 'you': 3L, 'cashier),': 1L, 'used': 1L, 'includes': 2L, 'involving': 1L, 'user': 1L, 'a': 6L, 'i': 1L, 'roughly': 1L, 'original': 1L, 'traditional': 3L, 'time': 1L, 'format': 1L, 'entry': 1L, 'the': 8L, 'need,': 1L, 'once': 1L}, {'company.': 1L, 'because': 1L, 'be': 2L, 'is': 1L, 'it': 1L, 'him': 1L, 'swears': 1L, 'really': 1L, 'little': 1L, 'calculator.': 1L, 'for': 1L, '&': 2L, 'caught': 1L, 'by': 1L, 'to': 1L, 'helps': 1L, 'if': 1L, 'calculator': 1L, 'bought': 1L, 'it.': 1L, 'then': 1L, 'them': 1L, 'his': 1L, 'ceo': 2L, 'boss': 1L, 'they': 1L, 'not': 1L, 'he': 3L, 'with': 1L, 'day': 2L, 'must': 1L, 'a': 1L, 'great': 1L, 'would': 1L, 'lost': 1L, 'this': 2L, 'of': 1L, 'his.': 1L, 'work': 1L, 'without': 1L, 'loves': 1L, 'the': 2L, 'my': 2L}, {'all': 1L, 'help': 1L, \"don't\": 1L, 'comma': 1L, 'displaying': 1L, 'time,': 1L, 'seems': 1L, 'desktop': 1L, 'better': 1L, 'to': 5L, 'only': 1L, 'helps': 1L, 'easy': 1L, 'has': 1L, 'easier': 1L, 'it.': 1L, 'complaint': 1L, 'legible': 1L, 'hit': 1L, 'read': 1L, 'choice': 1L, 'today.': 1L, 'handy': 1L, 'dim': 1L, '--': 1L, 'nicely': 1L, 'small': 1L, 'well-built': 1L, 'old': 1L, 'math.': 1L, 'buttons': 2L, 'are': 3L, 'even': 1L, 'for': 2L, 'spaced.': 1L, 'looking': 1L, '(e.g.,': 1L, 'large,': 1L, 'be': 1L, 'well-designed,': 1L, 'read.': 1L, 'allows': 1L, 'ensure': 2L, 'calculators': 1L, 'slightly': 1L, 'or': 1L, \"can't\": 1L, 'calculator.my': 1L, 'angles': 1L, 'price.': 1L, 'simple': 1L, 'four-function': 1L, 'number': 1L, 'one': 2L, 'times.': 1L, \"you're\": 1L, 'given': 1L, 'long': 1L, 'handles': 1L, 'way': 1L, 'memory': 3L, 'expected': 1L, 'is': 3L, 'more': 1L, 'that': 6L, 'somewhat': 1L, 'excellent': 1L, 'with': 1L, 'than': 2L, 'this': 1L, 'up': 1L, 'display': 4L, 'and': 3L, 'calculator': 1L, 'shame': 1L, 'at': 2L, 'have': 1L, 'in': 2L, 'if': 1L, 'lighting.seems': 1L, '-': 1L, 'very': 1L, 'which': 1L, 'you': 4L, 'hand-held': 1L, 'unless': 1L, 'separate': 1L, 'includes': 1L, 'a': 6L, 'i': 2L, 'clear': 3L, 'without': 1L, 'comes': 1L, 'memory).': 1L, 'the': 6L, 'strings': 1L, 'sculpted': 1L, 'typical': 1L}, {'and': 2L, 'this': 1L, 'use': 1L, 'love': 1L, 'calculate': 1L, 'calculator,': 1L, 'i': 1L, 'big': 1L, 'make': 1L, 'life': 1L, 'to': 1L, 'much': 1L, 'so': 2L, 'numbers': 1L, 'easy': 1L, 'excellent': 1L, 'easier.': 1L, 'my': 1L}]"
      ]
     },
     "execution_count": 8,
     "metadata": {},
     "output_type": "execute_result"
    }
   ],
   "source": [
    "Office_Products['word_count'].head()"
   ]
  },
  {
   "cell_type": "code",
   "execution_count": 14,
   "metadata": {
    "collapsed": false
   },
   "outputs": [],
   "source": [
    "# Limiting the review data to only helpful reviews. The ‘helpful’ column contains values like ‘[x, y]’.\n",
    "# The first value represents the number of helpful votes, the second represents overall votes. \n",
    "# If at least 60% consider the review helpful, we want those reviews. A binary 1 or 0 column will identify the review as helpful or not.\n",
    "import numpy as np\n",
    "\n",
    "Office_Products['helpful_count'] = Office_Products['helpful'].apply(lambda x: x[0])\n",
    "Office_Products['overall_count'] = Office_Products['helpful'].apply(lambda x: x[1])\n",
    "Office_Products['helpful_percent'] = Office_Products['helpful_count'] / Office_Products['overall_count']\n",
    "Office_Products['helpful_review'] = np.where((Office_Products['helpful_percent'] >= .6) & (Office_Products['overall_count'] > 0), 1, 0)\n"
   ]
  },
  {
   "cell_type": "code",
   "execution_count": 15,
   "metadata": {
    "collapsed": false
   },
   "outputs": [
    {
     "data": {
      "text/html": [
       "<div style=\"max-height:1000px;max-width:1500px;overflow:auto;\"><table frame=\"box\" rules=\"cols\">\n",
       "    <tr>\n",
       "        <th style=\"padding-left: 1em; padding-right: 1em; text-align: center\">asin</th>\n",
       "        <th style=\"padding-left: 1em; padding-right: 1em; text-align: center\">helpful</th>\n",
       "        <th style=\"padding-left: 1em; padding-right: 1em; text-align: center\">overall</th>\n",
       "        <th style=\"padding-left: 1em; padding-right: 1em; text-align: center\">reviewText</th>\n",
       "        <th style=\"padding-left: 1em; padding-right: 1em; text-align: center\">reviewTime</th>\n",
       "        <th style=\"padding-left: 1em; padding-right: 1em; text-align: center\">reviewerID</th>\n",
       "        <th style=\"padding-left: 1em; padding-right: 1em; text-align: center\">reviewerName</th>\n",
       "    </tr>\n",
       "    <tr>\n",
       "        <td style=\"padding-left: 1em; padding-right: 1em; text-align: center; vertical-align: top\">B00000JBLH</td>\n",
       "        <td style=\"padding-left: 1em; padding-right: 1em; text-align: center; vertical-align: top\">[3, 4]</td>\n",
       "        <td style=\"padding-left: 1em; padding-right: 1em; text-align: center; vertical-align: top\">5.0</td>\n",
       "        <td style=\"padding-left: 1em; padding-right: 1em; text-align: center; vertical-align: top\">I bought my first HP12C<br>in about 1984 or so, and ...</td>\n",
       "        <td style=\"padding-left: 1em; padding-right: 1em; text-align: center; vertical-align: top\">09 3, 2004</td>\n",
       "        <td style=\"padding-left: 1em; padding-right: 1em; text-align: center; vertical-align: top\">A32T2H8150OJLU</td>\n",
       "        <td style=\"padding-left: 1em; padding-right: 1em; text-align: center; vertical-align: top\">ARH</td>\n",
       "    </tr>\n",
       "    <tr>\n",
       "        <td style=\"padding-left: 1em; padding-right: 1em; text-align: center; vertical-align: top\">B00000JBLH</td>\n",
       "        <td style=\"padding-left: 1em; padding-right: 1em; text-align: center; vertical-align: top\">[7, 9]</td>\n",
       "        <td style=\"padding-left: 1em; padding-right: 1em; text-align: center; vertical-align: top\">5.0</td>\n",
       "        <td style=\"padding-left: 1em; padding-right: 1em; text-align: center; vertical-align: top\">WHY THIS BELATED REVIEW?<br>I feel very obliged to ...</td>\n",
       "        <td style=\"padding-left: 1em; padding-right: 1em; text-align: center; vertical-align: top\">12 15, 2007</td>\n",
       "        <td style=\"padding-left: 1em; padding-right: 1em; text-align: center; vertical-align: top\">A3MAFS04ZABRGO</td>\n",
       "        <td style=\"padding-left: 1em; padding-right: 1em; text-align: center; vertical-align: top\">Let it Be \"Alan\"</td>\n",
       "    </tr>\n",
       "    <tr>\n",
       "        <td style=\"padding-left: 1em; padding-right: 1em; text-align: center; vertical-align: top\">B00000JBLH</td>\n",
       "        <td style=\"padding-left: 1em; padding-right: 1em; text-align: center; vertical-align: top\">[3, 3]</td>\n",
       "        <td style=\"padding-left: 1em; padding-right: 1em; text-align: center; vertical-align: top\">2.0</td>\n",
       "        <td style=\"padding-left: 1em; padding-right: 1em; text-align: center; vertical-align: top\">I have an HP 48GX that<br>has been kicking for  ...</td>\n",
       "        <td style=\"padding-left: 1em; padding-right: 1em; text-align: center; vertical-align: top\">01 1, 2011</td>\n",
       "        <td style=\"padding-left: 1em; padding-right: 1em; text-align: center; vertical-align: top\">A1F1A0QQP2XVH5</td>\n",
       "        <td style=\"padding-left: 1em; padding-right: 1em; text-align: center; vertical-align: top\">Mark B</td>\n",
       "    </tr>\n",
       "    <tr>\n",
       "        <td style=\"padding-left: 1em; padding-right: 1em; text-align: center; vertical-align: top\">B00000JBLH</td>\n",
       "        <td style=\"padding-left: 1em; padding-right: 1em; text-align: center; vertical-align: top\">[7, 8]</td>\n",
       "        <td style=\"padding-left: 1em; padding-right: 1em; text-align: center; vertical-align: top\">5.0</td>\n",
       "        <td style=\"padding-left: 1em; padding-right: 1em; text-align: center; vertical-align: top\">I've started doing more<br>finance stuff recently ...</td>\n",
       "        <td style=\"padding-left: 1em; padding-right: 1em; text-align: center; vertical-align: top\">04 19, 2006</td>\n",
       "        <td style=\"padding-left: 1em; padding-right: 1em; text-align: center; vertical-align: top\">A49R5DBXXQDE5</td>\n",
       "        <td style=\"padding-left: 1em; padding-right: 1em; text-align: center; vertical-align: top\">R. D Johnson</td>\n",
       "    </tr>\n",
       "    <tr>\n",
       "        <td style=\"padding-left: 1em; padding-right: 1em; text-align: center; vertical-align: top\">B00000JBLH</td>\n",
       "        <td style=\"padding-left: 1em; padding-right: 1em; text-align: center; vertical-align: top\">[0, 0]</td>\n",
       "        <td style=\"padding-left: 1em; padding-right: 1em; text-align: center; vertical-align: top\">5.0</td>\n",
       "        <td style=\"padding-left: 1em; padding-right: 1em; text-align: center; vertical-align: top\">For simple calculations<br>and discounted cash ...</td>\n",
       "        <td style=\"padding-left: 1em; padding-right: 1em; text-align: center; vertical-align: top\">08 4, 2013</td>\n",
       "        <td style=\"padding-left: 1em; padding-right: 1em; text-align: center; vertical-align: top\">A2XRMQA6PJ5ZJ8</td>\n",
       "        <td style=\"padding-left: 1em; padding-right: 1em; text-align: center; vertical-align: top\">Roger J. Buffington</td>\n",
       "    </tr>\n",
       "    <tr>\n",
       "        <td style=\"padding-left: 1em; padding-right: 1em; text-align: center; vertical-align: top\">B00000JBLH</td>\n",
       "        <td style=\"padding-left: 1em; padding-right: 1em; text-align: center; vertical-align: top\">[10, 12]</td>\n",
       "        <td style=\"padding-left: 1em; padding-right: 1em; text-align: center; vertical-align: top\">5.0</td>\n",
       "        <td style=\"padding-left: 1em; padding-right: 1em; text-align: center; vertical-align: top\">While I don't have an<br>MBA, it's hard to bel ...</td>\n",
       "        <td style=\"padding-left: 1em; padding-right: 1em; text-align: center; vertical-align: top\">01 23, 2002</td>\n",
       "        <td style=\"padding-left: 1em; padding-right: 1em; text-align: center; vertical-align: top\">A2JFOHC9W629IE</td>\n",
       "        <td style=\"padding-left: 1em; padding-right: 1em; text-align: center; vertical-align: top\">scott_from_dallas</td>\n",
       "    </tr>\n",
       "    <tr>\n",
       "        <td style=\"padding-left: 1em; padding-right: 1em; text-align: center; vertical-align: top\">B00000JBLH</td>\n",
       "        <td style=\"padding-left: 1em; padding-right: 1em; text-align: center; vertical-align: top\">[3, 4]</td>\n",
       "        <td style=\"padding-left: 1em; padding-right: 1em; text-align: center; vertical-align: top\">5.0</td>\n",
       "        <td style=\"padding-left: 1em; padding-right: 1em; text-align: center; vertical-align: top\">I've had an HP 12C ever<br>since they were first ...</td>\n",
       "        <td style=\"padding-left: 1em; padding-right: 1em; text-align: center; vertical-align: top\">01 17, 2007</td>\n",
       "        <td style=\"padding-left: 1em; padding-right: 1em; text-align: center; vertical-align: top\">A38NELQT98S4H8</td>\n",
       "        <td style=\"padding-left: 1em; padding-right: 1em; text-align: center; vertical-align: top\">W. B. Halper</td>\n",
       "    </tr>\n",
       "    <tr>\n",
       "        <td style=\"padding-left: 1em; padding-right: 1em; text-align: center; vertical-align: top\">B00000JBLH</td>\n",
       "        <td style=\"padding-left: 1em; padding-right: 1em; text-align: center; vertical-align: top\">[0, 0]</td>\n",
       "        <td style=\"padding-left: 1em; padding-right: 1em; text-align: center; vertical-align: top\">5.0</td>\n",
       "        <td style=\"padding-left: 1em; padding-right: 1em; text-align: center; vertical-align: top\">Bought this for my boss<br>because he lost his.  He ...</td>\n",
       "        <td style=\"padding-left: 1em; padding-right: 1em; text-align: center; vertical-align: top\">11 14, 2013</td>\n",
       "        <td style=\"padding-left: 1em; padding-right: 1em; text-align: center; vertical-align: top\">AA8M6331NI1EN</td>\n",
       "        <td style=\"padding-left: 1em; padding-right: 1em; text-align: center; vertical-align: top\">ZombieMom</td>\n",
       "    </tr>\n",
       "    <tr>\n",
       "        <td style=\"padding-left: 1em; padding-right: 1em; text-align: center; vertical-align: top\">B00000JBLU</td>\n",
       "        <td style=\"padding-left: 1em; padding-right: 1em; text-align: center; vertical-align: top\">[3, 3]</td>\n",
       "        <td style=\"padding-left: 1em; padding-right: 1em; text-align: center; vertical-align: top\">5.0</td>\n",
       "        <td style=\"padding-left: 1em; padding-right: 1em; text-align: center; vertical-align: top\">This is a well-designed,<br>simple calculator that ...</td>\n",
       "        <td style=\"padding-left: 1em; padding-right: 1em; text-align: center; vertical-align: top\">12 7, 2010</td>\n",
       "        <td style=\"padding-left: 1em; padding-right: 1em; text-align: center; vertical-align: top\">A25C2M3QF9G7OQ</td>\n",
       "        <td style=\"padding-left: 1em; padding-right: 1em; text-align: center; vertical-align: top\">Comdet</td>\n",
       "    </tr>\n",
       "    <tr>\n",
       "        <td style=\"padding-left: 1em; padding-right: 1em; text-align: center; vertical-align: top\">B00000JBLU</td>\n",
       "        <td style=\"padding-left: 1em; padding-right: 1em; text-align: center; vertical-align: top\">[0, 0]</td>\n",
       "        <td style=\"padding-left: 1em; padding-right: 1em; text-align: center; vertical-align: top\">5.0</td>\n",
       "        <td style=\"padding-left: 1em; padding-right: 1em; text-align: center; vertical-align: top\">I love this calculator,<br>big numbers and calcu ...</td>\n",
       "        <td style=\"padding-left: 1em; padding-right: 1em; text-align: center; vertical-align: top\">12 2, 2013</td>\n",
       "        <td style=\"padding-left: 1em; padding-right: 1em; text-align: center; vertical-align: top\">A1RTVWTWZSIC94</td>\n",
       "        <td style=\"padding-left: 1em; padding-right: 1em; text-align: center; vertical-align: top\">Hb \"Black Beauty\"</td>\n",
       "    </tr>\n",
       "</table>\n",
       "<table frame=\"box\" rules=\"cols\">\n",
       "    <tr>\n",
       "        <th style=\"padding-left: 1em; padding-right: 1em; text-align: center\">summary</th>\n",
       "        <th style=\"padding-left: 1em; padding-right: 1em; text-align: center\">unixReviewTime</th>\n",
       "        <th style=\"padding-left: 1em; padding-right: 1em; text-align: center\">word_count</th>\n",
       "        <th style=\"padding-left: 1em; padding-right: 1em; text-align: center\">helpful_count</th>\n",
       "        <th style=\"padding-left: 1em; padding-right: 1em; text-align: center\">overall_count</th>\n",
       "    </tr>\n",
       "    <tr>\n",
       "        <td style=\"padding-left: 1em; padding-right: 1em; text-align: center; vertical-align: top\">A solid performer, and<br>long time friend ...</td>\n",
       "        <td style=\"padding-left: 1em; padding-right: 1em; text-align: center; vertical-align: top\">1094169600</td>\n",
       "        <td style=\"padding-left: 1em; padding-right: 1em; text-align: center; vertical-align: top\">{'area.': 1L, 'hand,':<br>1L, 'over': 1L, 'move': ...</td>\n",
       "        <td style=\"padding-left: 1em; padding-right: 1em; text-align: center; vertical-align: top\">3</td>\n",
       "        <td style=\"padding-left: 1em; padding-right: 1em; text-align: center; vertical-align: top\">4</td>\n",
       "    </tr>\n",
       "    <tr>\n",
       "        <td style=\"padding-left: 1em; padding-right: 1em; text-align: center; vertical-align: top\">Price of GOLD is up, so<br>don't bury the golden ...</td>\n",
       "        <td style=\"padding-left: 1em; padding-right: 1em; text-align: center; vertical-align: top\">1197676800</td>\n",
       "        <td style=\"padding-left: 1em; padding-right: 1em; text-align: center; vertical-align: top\">{'all': 3L, 'ever.': 1L,<br>'four': 1L, 'desktops': ...</td>\n",
       "        <td style=\"padding-left: 1em; padding-right: 1em; text-align: center; vertical-align: top\">7</td>\n",
       "        <td style=\"padding-left: 1em; padding-right: 1em; text-align: center; vertical-align: top\">9</td>\n",
       "    </tr>\n",
       "    <tr>\n",
       "        <td style=\"padding-left: 1em; padding-right: 1em; text-align: center; vertical-align: top\">Good functionality, but<br>not durable like old HPs ...</td>\n",
       "        <td style=\"padding-left: 1em; padding-right: 1em; text-align: center; vertical-align: top\">1293840000</td>\n",
       "        <td style=\"padding-left: 1em; padding-right: 1em; text-align: center; vertical-align: top\">{'and': 4L, '12c': 1L,<br>'old': 1L, 'classic': ...</td>\n",
       "        <td style=\"padding-left: 1em; padding-right: 1em; text-align: center; vertical-align: top\">3</td>\n",
       "        <td style=\"padding-left: 1em; padding-right: 1em; text-align: center; vertical-align: top\">3</td>\n",
       "    </tr>\n",
       "    <tr>\n",
       "        <td style=\"padding-left: 1em; padding-right: 1em; text-align: center; vertical-align: top\">One of the last of an<br>almost extinct species ...</td>\n",
       "        <td style=\"padding-left: 1em; padding-right: 1em; text-align: center; vertical-align: top\">1145404800</td>\n",
       "        <td style=\"padding-left: 1em; padding-right: 1em; text-align: center; vertical-align: top\">{'12c': 2L, 'stamped':<br>1L, 'cellphones,': 1L, ...</td>\n",
       "        <td style=\"padding-left: 1em; padding-right: 1em; text-align: center; vertical-align: top\">7</td>\n",
       "        <td style=\"padding-left: 1em; padding-right: 1em; text-align: center; vertical-align: top\">8</td>\n",
       "    </tr>\n",
       "    <tr>\n",
       "        <td style=\"padding-left: 1em; padding-right: 1em; text-align: center; vertical-align: top\">Still the best</td>\n",
       "        <td style=\"padding-left: 1em; padding-right: 1em; text-align: center; vertical-align: top\">1375574400</td>\n",
       "        <td style=\"padding-left: 1em; padding-right: 1em; text-align: center; vertical-align: top\">{'office': 1L, 'flows,':<br>1L, 'years': 1L, ...</td>\n",
       "        <td style=\"padding-left: 1em; padding-right: 1em; text-align: center; vertical-align: top\">0</td>\n",
       "        <td style=\"padding-left: 1em; padding-right: 1em; text-align: center; vertical-align: top\">0</td>\n",
       "    </tr>\n",
       "    <tr>\n",
       "        <td style=\"padding-left: 1em; padding-right: 1em; text-align: center; vertical-align: top\">Every MBA student and<br>grad should get one ...</td>\n",
       "        <td style=\"padding-left: 1em; padding-right: 1em; text-align: center; vertical-align: top\">1011744000</td>\n",
       "        <td style=\"padding-left: 1em; padding-right: 1em; text-align: center; vertical-align: top\">{\"don't\": 1L, 'over': 1L,<br>'planning': 1L, 'duri ...</td>\n",
       "        <td style=\"padding-left: 1em; padding-right: 1em; text-align: center; vertical-align: top\">10</td>\n",
       "        <td style=\"padding-left: 1em; padding-right: 1em; text-align: center; vertical-align: top\">12</td>\n",
       "    </tr>\n",
       "    <tr>\n",
       "        <td style=\"padding-left: 1em; padding-right: 1em; text-align: center; vertical-align: top\">A workhorse of a<br>calculator ...</td>\n",
       "        <td style=\"padding-left: 1em; padding-right: 1em; text-align: center; vertical-align: top\">1168992000</td>\n",
       "        <td style=\"padding-left: 1em; padding-right: 1em; text-align: center; vertical-align: top\">{'12c': 2L, 'just': 1L,<br>'being': 1L, 'money': ...</td>\n",
       "        <td style=\"padding-left: 1em; padding-right: 1em; text-align: center; vertical-align: top\">3</td>\n",
       "        <td style=\"padding-left: 1em; padding-right: 1em; text-align: center; vertical-align: top\">4</td>\n",
       "    </tr>\n",
       "    <tr>\n",
       "        <td style=\"padding-left: 1em; padding-right: 1em; text-align: center; vertical-align: top\">Fast shipping &amp; great<br>price for this awesome ...</td>\n",
       "        <td style=\"padding-left: 1em; padding-right: 1em; text-align: center; vertical-align: top\">1384387200</td>\n",
       "        <td style=\"padding-left: 1em; padding-right: 1em; text-align: center; vertical-align: top\">{'company.': 1L,<br>'because': 1L, 'be': 2L, ...</td>\n",
       "        <td style=\"padding-left: 1em; padding-right: 1em; text-align: center; vertical-align: top\">0</td>\n",
       "        <td style=\"padding-left: 1em; padding-right: 1em; text-align: center; vertical-align: top\">0</td>\n",
       "    </tr>\n",
       "    <tr>\n",
       "        <td style=\"padding-left: 1em; padding-right: 1em; text-align: center; vertical-align: top\">Nice design, works well,<br>great value ...</td>\n",
       "        <td style=\"padding-left: 1em; padding-right: 1em; text-align: center; vertical-align: top\">1291680000</td>\n",
       "        <td style=\"padding-left: 1em; padding-right: 1em; text-align: center; vertical-align: top\">{'all': 1L, 'help': 1L,<br>\"don't\": 1L, 'comma': ...</td>\n",
       "        <td style=\"padding-left: 1em; padding-right: 1em; text-align: center; vertical-align: top\">3</td>\n",
       "        <td style=\"padding-left: 1em; padding-right: 1em; text-align: center; vertical-align: top\">3</td>\n",
       "    </tr>\n",
       "    <tr>\n",
       "        <td style=\"padding-left: 1em; padding-right: 1em; text-align: center; vertical-align: top\">Love It!!!!!!!!!</td>\n",
       "        <td style=\"padding-left: 1em; padding-right: 1em; text-align: center; vertical-align: top\">1385942400</td>\n",
       "        <td style=\"padding-left: 1em; padding-right: 1em; text-align: center; vertical-align: top\">{'and': 2L, 'this': 1L,<br>'use': 1L, 'love': 1L, ...</td>\n",
       "        <td style=\"padding-left: 1em; padding-right: 1em; text-align: center; vertical-align: top\">0</td>\n",
       "        <td style=\"padding-left: 1em; padding-right: 1em; text-align: center; vertical-align: top\">0</td>\n",
       "    </tr>\n",
       "</table>\n",
       "<table frame=\"box\" rules=\"cols\">\n",
       "    <tr>\n",
       "        <th style=\"padding-left: 1em; padding-right: 1em; text-align: center\">helpful_percent</th>\n",
       "        <th style=\"padding-left: 1em; padding-right: 1em; text-align: center\">helpful_review</th>\n",
       "    </tr>\n",
       "    <tr>\n",
       "        <td style=\"padding-left: 1em; padding-right: 1em; text-align: center; vertical-align: top\">0.75</td>\n",
       "        <td style=\"padding-left: 1em; padding-right: 1em; text-align: center; vertical-align: top\">1</td>\n",
       "    </tr>\n",
       "    <tr>\n",
       "        <td style=\"padding-left: 1em; padding-right: 1em; text-align: center; vertical-align: top\">0.777777777778</td>\n",
       "        <td style=\"padding-left: 1em; padding-right: 1em; text-align: center; vertical-align: top\">1</td>\n",
       "    </tr>\n",
       "    <tr>\n",
       "        <td style=\"padding-left: 1em; padding-right: 1em; text-align: center; vertical-align: top\">1.0</td>\n",
       "        <td style=\"padding-left: 1em; padding-right: 1em; text-align: center; vertical-align: top\">1</td>\n",
       "    </tr>\n",
       "    <tr>\n",
       "        <td style=\"padding-left: 1em; padding-right: 1em; text-align: center; vertical-align: top\">0.875</td>\n",
       "        <td style=\"padding-left: 1em; padding-right: 1em; text-align: center; vertical-align: top\">1</td>\n",
       "    </tr>\n",
       "    <tr>\n",
       "        <td style=\"padding-left: 1em; padding-right: 1em; text-align: center; vertical-align: top\">nan</td>\n",
       "        <td style=\"padding-left: 1em; padding-right: 1em; text-align: center; vertical-align: top\">0</td>\n",
       "    </tr>\n",
       "    <tr>\n",
       "        <td style=\"padding-left: 1em; padding-right: 1em; text-align: center; vertical-align: top\">0.833333333333</td>\n",
       "        <td style=\"padding-left: 1em; padding-right: 1em; text-align: center; vertical-align: top\">1</td>\n",
       "    </tr>\n",
       "    <tr>\n",
       "        <td style=\"padding-left: 1em; padding-right: 1em; text-align: center; vertical-align: top\">0.75</td>\n",
       "        <td style=\"padding-left: 1em; padding-right: 1em; text-align: center; vertical-align: top\">1</td>\n",
       "    </tr>\n",
       "    <tr>\n",
       "        <td style=\"padding-left: 1em; padding-right: 1em; text-align: center; vertical-align: top\">nan</td>\n",
       "        <td style=\"padding-left: 1em; padding-right: 1em; text-align: center; vertical-align: top\">0</td>\n",
       "    </tr>\n",
       "    <tr>\n",
       "        <td style=\"padding-left: 1em; padding-right: 1em; text-align: center; vertical-align: top\">1.0</td>\n",
       "        <td style=\"padding-left: 1em; padding-right: 1em; text-align: center; vertical-align: top\">1</td>\n",
       "    </tr>\n",
       "    <tr>\n",
       "        <td style=\"padding-left: 1em; padding-right: 1em; text-align: center; vertical-align: top\">nan</td>\n",
       "        <td style=\"padding-left: 1em; padding-right: 1em; text-align: center; vertical-align: top\">0</td>\n",
       "    </tr>\n",
       "</table>\n",
       "[10 rows x 14 columns]<br/>\n",
       "</div>"
      ],
      "text/plain": [
       "Columns:\n",
       "\tasin\tstr\n",
       "\thelpful\tlist\n",
       "\toverall\tfloat\n",
       "\treviewText\tstr\n",
       "\treviewTime\tstr\n",
       "\treviewerID\tstr\n",
       "\treviewerName\tstr\n",
       "\tsummary\tstr\n",
       "\tunixReviewTime\tint\n",
       "\tword_count\tdict\n",
       "\thelpful_count\tint\n",
       "\toverall_count\tint\n",
       "\thelpful_percent\tfloat\n",
       "\thelpful_review\tint\n",
       "\n",
       "Rows: 10\n",
       "\n",
       "Data:\n",
       "+------------+----------+---------+-------------------------------+-------------+\n",
       "|    asin    | helpful  | overall |           reviewText          |  reviewTime |\n",
       "+------------+----------+---------+-------------------------------+-------------+\n",
       "| B00000JBLH |  [3, 4]  |   5.0   | I bought my first HP12C in... |  09 3, 2004 |\n",
       "| B00000JBLH |  [7, 9]  |   5.0   | WHY THIS BELATED REVIEW? I... | 12 15, 2007 |\n",
       "| B00000JBLH |  [3, 3]  |   2.0   | I have an HP 48GX that has... |  01 1, 2011 |\n",
       "| B00000JBLH |  [7, 8]  |   5.0   | I've started doing more fi... | 04 19, 2006 |\n",
       "| B00000JBLH |  [0, 0]  |   5.0   | For simple calculations an... |  08 4, 2013 |\n",
       "| B00000JBLH | [10, 12] |   5.0   | While I don't have an MBA,... | 01 23, 2002 |\n",
       "| B00000JBLH |  [3, 4]  |   5.0   | I've had an HP 12C ever si... | 01 17, 2007 |\n",
       "| B00000JBLH |  [0, 0]  |   5.0   | Bought this for my boss be... | 11 14, 2013 |\n",
       "| B00000JBLU |  [3, 3]  |   5.0   | This is a well-designed, s... |  12 7, 2010 |\n",
       "| B00000JBLU |  [0, 0]  |   5.0   | I love this calculator, bi... |  12 2, 2013 |\n",
       "+------------+----------+---------+-------------------------------+-------------+\n",
       "+----------------+---------------------+-------------------------------+\n",
       "|   reviewerID   |     reviewerName    |            summary            |\n",
       "+----------------+---------------------+-------------------------------+\n",
       "| A32T2H8150OJLU |         ARH         | A solid performer, and lon... |\n",
       "| A3MAFS04ZABRGO |   Let it Be \"Alan\"  | Price of GOLD is up, so do... |\n",
       "| A1F1A0QQP2XVH5 |        Mark B       | Good functionality, but no... |\n",
       "| A49R5DBXXQDE5  |     R. D Johnson    | One of the last of an almo... |\n",
       "| A2XRMQA6PJ5ZJ8 | Roger J. Buffington |         Still the best        |\n",
       "| A2JFOHC9W629IE |  scott_from_dallas  | Every MBA student and grad... |\n",
       "| A38NELQT98S4H8 |     W. B. Halper    |  A workhorse of a calculator  |\n",
       "| AA8M6331NI1EN  |      ZombieMom      | Fast shipping & great pric... |\n",
       "| A25C2M3QF9G7OQ |        Comdet       | Nice design, works well, g... |\n",
       "| A1RTVWTWZSIC94 |  Hb \"Black Beauty\"  |        Love It!!!!!!!!!       |\n",
       "+----------------+---------------------+-------------------------------+\n",
       "+----------------+-------------------------------+---------------+---------------+\n",
       "| unixReviewTime |           word_count          | helpful_count | overall_count |\n",
       "+----------------+-------------------------------+---------------+---------------+\n",
       "|   1094169600   | {'area.': 1L, 'hand,': 1L,... |       3       |       4       |\n",
       "|   1197676800   | {'all': 3L, 'ever.': 1L, '... |       7       |       9       |\n",
       "|   1293840000   | {'and': 4L, '12c': 1L, 'ol... |       3       |       3       |\n",
       "|   1145404800   | {'12c': 2L, 'stamped': 1L,... |       7       |       8       |\n",
       "|   1375574400   | {'office': 1L, 'flows,': 1... |       0       |       0       |\n",
       "|   1011744000   | {\"don't\": 1L, 'over': 1L, ... |       10      |       12      |\n",
       "|   1168992000   | {'12c': 2L, 'just': 1L, 'b... |       3       |       4       |\n",
       "|   1384387200   | {'company.': 1L, 'because'... |       0       |       0       |\n",
       "|   1291680000   | {'all': 1L, 'help': 1L, \"d... |       3       |       3       |\n",
       "|   1385942400   | {'and': 2L, 'this': 1L, 'u... |       0       |       0       |\n",
       "+----------------+-------------------------------+---------------+---------------+\n",
       "+-----------------+----------------+\n",
       "| helpful_percent | helpful_review |\n",
       "+-----------------+----------------+\n",
       "|       0.75      |       1        |\n",
       "|  0.777777777778 |       1        |\n",
       "|       1.0       |       1        |\n",
       "|      0.875      |       1        |\n",
       "|       nan       |       0        |\n",
       "|  0.833333333333 |       1        |\n",
       "|       0.75      |       1        |\n",
       "|       nan       |       0        |\n",
       "|       1.0       |       1        |\n",
       "|       nan       |       0        |\n",
       "+-----------------+----------------+\n",
       "[10 rows x 14 columns]"
      ]
     },
     "execution_count": 15,
     "metadata": {},
     "output_type": "execute_result"
    }
   ],
   "source": [
    "Office_Products.head()"
   ]
  },
  {
   "cell_type": "code",
   "execution_count": 16,
   "metadata": {
    "collapsed": true
   },
   "outputs": [],
   "source": [
    "# Building the sentiment classifier. Performing a random 80/20 split to select the training and testing data.\n",
    "train_data, test_data = Office_Products.random_split(.8, seed=0)"
   ]
  },
  {
   "cell_type": "code",
   "execution_count": 17,
   "metadata": {
    "collapsed": false
   },
   "outputs": [
    {
     "data": {
      "text/html": [
       "<pre>WARNING: The number of feature dimensions in this problem is very large in comparison with the number of examples. Unless an appropriate regularization value is set, this model may not provide accurate predictions for a validation/test set.</pre>"
      ],
      "text/plain": [
       "WARNING: The number of feature dimensions in this problem is very large in comparison with the number of examples. Unless an appropriate regularization value is set, this model may not provide accurate predictions for a validation/test set."
      ]
     },
     "metadata": {},
     "output_type": "display_data"
    },
    {
     "data": {
      "text/html": [
       "<pre>Logistic regression:</pre>"
      ],
      "text/plain": [
       "Logistic regression:"
      ]
     },
     "metadata": {},
     "output_type": "display_data"
    },
    {
     "data": {
      "text/html": [
       "<pre>--------------------------------------------------------</pre>"
      ],
      "text/plain": [
       "--------------------------------------------------------"
      ]
     },
     "metadata": {},
     "output_type": "display_data"
    },
    {
     "data": {
      "text/html": [
       "<pre>Number of examples          : 42649</pre>"
      ],
      "text/plain": [
       "Number of examples          : 42649"
      ]
     },
     "metadata": {},
     "output_type": "display_data"
    },
    {
     "data": {
      "text/html": [
       "<pre>Number of classes           : 2</pre>"
      ],
      "text/plain": [
       "Number of classes           : 2"
      ]
     },
     "metadata": {},
     "output_type": "display_data"
    },
    {
     "data": {
      "text/html": [
       "<pre>Number of feature columns   : 1</pre>"
      ],
      "text/plain": [
       "Number of feature columns   : 1"
      ]
     },
     "metadata": {},
     "output_type": "display_data"
    },
    {
     "data": {
      "text/html": [
       "<pre>Number of unpacked features : 190988</pre>"
      ],
      "text/plain": [
       "Number of unpacked features : 190988"
      ]
     },
     "metadata": {},
     "output_type": "display_data"
    },
    {
     "data": {
      "text/html": [
       "<pre>Number of coefficients    : 190989</pre>"
      ],
      "text/plain": [
       "Number of coefficients    : 190989"
      ]
     },
     "metadata": {},
     "output_type": "display_data"
    },
    {
     "data": {
      "text/html": [
       "<pre>Starting L-BFGS</pre>"
      ],
      "text/plain": [
       "Starting L-BFGS"
      ]
     },
     "metadata": {},
     "output_type": "display_data"
    },
    {
     "data": {
      "text/html": [
       "<pre>--------------------------------------------------------</pre>"
      ],
      "text/plain": [
       "--------------------------------------------------------"
      ]
     },
     "metadata": {},
     "output_type": "display_data"
    },
    {
     "data": {
      "text/html": [
       "<pre>+-----------+----------+-----------+--------------+-------------------+---------------------+</pre>"
      ],
      "text/plain": [
       "+-----------+----------+-----------+--------------+-------------------+---------------------+"
      ]
     },
     "metadata": {},
     "output_type": "display_data"
    },
    {
     "data": {
      "text/html": [
       "<pre>| Iteration | Passes   | Step size | Elapsed Time | Training-accuracy | Validation-accuracy |</pre>"
      ],
      "text/plain": [
       "| Iteration | Passes   | Step size | Elapsed Time | Training-accuracy | Validation-accuracy |"
      ]
     },
     "metadata": {},
     "output_type": "display_data"
    },
    {
     "data": {
      "text/html": [
       "<pre>+-----------+----------+-----------+--------------+-------------------+---------------------+</pre>"
      ],
      "text/plain": [
       "+-----------+----------+-----------+--------------+-------------------+---------------------+"
      ]
     },
     "metadata": {},
     "output_type": "display_data"
    },
    {
     "data": {
      "text/html": [
       "<pre>| 1         | 4        | 0.000012  | 2.402138     | 0.763816          | 0.728344            |</pre>"
      ],
      "text/plain": [
       "| 1         | 4        | 0.000012  | 2.402138     | 0.763816          | 0.728344            |"
      ]
     },
     "metadata": {},
     "output_type": "display_data"
    },
    {
     "data": {
      "text/html": [
       "<pre>| 2         | 6        | 1.000000  | 3.465198     | 0.854909          | 0.748987            |</pre>"
      ],
      "text/plain": [
       "| 2         | 6        | 1.000000  | 3.465198     | 0.854909          | 0.748987            |"
      ]
     },
     "metadata": {},
     "output_type": "display_data"
    },
    {
     "data": {
      "text/html": [
       "<pre>| 3         | 7        | 1.000000  | 4.114235     | 0.896410          | 0.746724            |</pre>"
      ],
      "text/plain": [
       "| 3         | 7        | 1.000000  | 4.114235     | 0.896410          | 0.746724            |"
      ]
     },
     "metadata": {},
     "output_type": "display_data"
    },
    {
     "data": {
      "text/html": [
       "<pre>| 4         | 8        | 1.000000  | 4.814276     | 0.939506          | 0.740315            |</pre>"
      ],
      "text/plain": [
       "| 4         | 8        | 1.000000  | 4.814276     | 0.939506          | 0.740315            |"
      ]
     },
     "metadata": {},
     "output_type": "display_data"
    },
    {
     "data": {
      "text/html": [
       "<pre>| 5         | 9        | 1.000000  | 5.487314     | 0.954231          | 0.740880            |</pre>"
      ],
      "text/plain": [
       "| 5         | 9        | 1.000000  | 5.487314     | 0.954231          | 0.740880            |"
      ]
     },
     "metadata": {},
     "output_type": "display_data"
    },
    {
     "data": {
      "text/html": [
       "<pre>| 6         | 10       | 1.000000  | 6.207355     | 0.971465          | 0.718447            |</pre>"
      ],
      "text/plain": [
       "| 6         | 10       | 1.000000  | 6.207355     | 0.971465          | 0.718447            |"
      ]
     },
     "metadata": {},
     "output_type": "display_data"
    },
    {
     "data": {
      "text/html": [
       "<pre>| 10        | 14       | 1.000000  | 9.226528     | 0.987268          | 0.684419            |</pre>"
      ],
      "text/plain": [
       "| 10        | 14       | 1.000000  | 9.226528     | 0.987268          | 0.684419            |"
      ]
     },
     "metadata": {},
     "output_type": "display_data"
    },
    {
     "data": {
      "text/html": [
       "<pre>+-----------+----------+-----------+--------------+-------------------+---------------------+</pre>"
      ],
      "text/plain": [
       "+-----------+----------+-----------+--------------+-------------------+---------------------+"
      ]
     },
     "metadata": {},
     "output_type": "display_data"
    },
    {
     "data": {
      "text/html": [
       "<pre>TERMINATED: Iteration limit reached.</pre>"
      ],
      "text/plain": [
       "TERMINATED: Iteration limit reached."
      ]
     },
     "metadata": {},
     "output_type": "display_data"
    },
    {
     "data": {
      "text/html": [
       "<pre>This model may not be optimal. To improve it, consider increasing `max_iterations`.</pre>"
      ],
      "text/plain": [
       "This model may not be optimal. To improve it, consider increasing `max_iterations`."
      ]
     },
     "metadata": {},
     "output_type": "display_data"
    }
   ],
   "source": [
    "sentiment_model_Logist = graphlab.logistic_classifier.create(train_data,\n",
    "                                                            target = 'helpful_review',\n",
    "                                                            features = ['word_count'],\n",
    "                                                            validation_set = test_data)"
   ]
  },
  {
   "cell_type": "code",
   "execution_count": 18,
   "metadata": {
    "collapsed": false
   },
   "outputs": [
    {
     "data": {
      "text/plain": [
       "{'roc_curve': Columns:\n",
       " \tthreshold\tfloat\n",
       " \tfpr\tfloat\n",
       " \ttpr\tfloat\n",
       " \tp\tint\n",
       " \tn\tint\n",
       " \n",
       " Rows: 100001\n",
       " \n",
       " Data:\n",
       " +-----------+----------------+----------------+------+------+\n",
       " | threshold |      fpr       |      tpr       |  p   |  n   |\n",
       " +-----------+----------------+----------------+------+------+\n",
       " |    0.0    |      1.0       |      1.0       | 2907 | 7702 |\n",
       " |   1e-05   | 0.987795377824 | 0.986240110079 | 2907 | 7702 |\n",
       " |   2e-05   | 0.983640612828 | 0.981080151359 | 2907 | 7702 |\n",
       " |   3e-05   | 0.979745520644 | 0.978672170623 | 2907 | 7702 |\n",
       " |   4e-05   | 0.976239937679 | 0.974888200894 | 2907 | 7702 |\n",
       " |   5e-05   | 0.974032718774 | 0.972824217406 | 2907 | 7702 |\n",
       " |   6e-05   | 0.972085172682 | 0.97041623667  | 2907 | 7702 |\n",
       " |   7e-05   | 0.970786808621 | 0.969384244926 | 2907 | 7702 |\n",
       " |   8e-05   | 0.968839262529 | 0.968008255934 | 2907 | 7702 |\n",
       " |   9e-05   | 0.96715138925  | 0.966632266942 | 2907 | 7702 |\n",
       " +-----------+----------------+----------------+------+------+\n",
       " [100001 rows x 5 columns]\n",
       " Note: Only the head of the SFrame is printed.\n",
       " You can use print_rows(num_rows=m, num_columns=n) to print more rows and columns.}"
      ]
     },
     "execution_count": 18,
     "metadata": {},
     "output_type": "execute_result"
    }
   ],
   "source": [
    "## evaluating the model\n",
    "sentiment_model_Logist.evaluate(test_data, metric = 'roc_curve')"
   ]
  },
  {
   "cell_type": "code",
   "execution_count": 19,
   "metadata": {
    "collapsed": false
   },
   "outputs": [
    {
     "name": "stdout",
     "output_type": "stream",
     "text": [
      "Canvas is updated and available in a tab in the default browser.\n"
     ]
    }
   ],
   "source": [
    "# True Positive = 1189 False Negative = 1718 Accuracy = 0.685 Precision = 0.423 false Positive = 1625 True Negative = 6077 recall = 0.409\n",
    "sentiment_model_Logist.show(view = 'Evaluation')"
   ]
  },
  {
   "cell_type": "code",
   "execution_count": 25,
   "metadata": {
    "collapsed": false
   },
   "outputs": [
    {
     "data": {
      "text/html": [
       "<pre>WARNING: The number of feature dimensions in this problem is very large in comparison with the number of examples. Unless an appropriate regularization value is set, this model may not provide accurate predictions for a validation/test set.</pre>"
      ],
      "text/plain": [
       "WARNING: The number of feature dimensions in this problem is very large in comparison with the number of examples. Unless an appropriate regularization value is set, this model may not provide accurate predictions for a validation/test set."
      ]
     },
     "metadata": {},
     "output_type": "display_data"
    },
    {
     "data": {
      "text/html": [
       "<pre>SVM:</pre>"
      ],
      "text/plain": [
       "SVM:"
      ]
     },
     "metadata": {},
     "output_type": "display_data"
    },
    {
     "data": {
      "text/html": [
       "<pre>--------------------------------------------------------</pre>"
      ],
      "text/plain": [
       "--------------------------------------------------------"
      ]
     },
     "metadata": {},
     "output_type": "display_data"
    },
    {
     "data": {
      "text/html": [
       "<pre>Number of examples          : 42649</pre>"
      ],
      "text/plain": [
       "Number of examples          : 42649"
      ]
     },
     "metadata": {},
     "output_type": "display_data"
    },
    {
     "data": {
      "text/html": [
       "<pre>Number of classes           : 2</pre>"
      ],
      "text/plain": [
       "Number of classes           : 2"
      ]
     },
     "metadata": {},
     "output_type": "display_data"
    },
    {
     "data": {
      "text/html": [
       "<pre>Number of feature columns   : 1</pre>"
      ],
      "text/plain": [
       "Number of feature columns   : 1"
      ]
     },
     "metadata": {},
     "output_type": "display_data"
    },
    {
     "data": {
      "text/html": [
       "<pre>Number of unpacked features : 190988</pre>"
      ],
      "text/plain": [
       "Number of unpacked features : 190988"
      ]
     },
     "metadata": {},
     "output_type": "display_data"
    },
    {
     "data": {
      "text/html": [
       "<pre>Number of coefficients    : 190989</pre>"
      ],
      "text/plain": [
       "Number of coefficients    : 190989"
      ]
     },
     "metadata": {},
     "output_type": "display_data"
    },
    {
     "data": {
      "text/html": [
       "<pre>Starting L-BFGS</pre>"
      ],
      "text/plain": [
       "Starting L-BFGS"
      ]
     },
     "metadata": {},
     "output_type": "display_data"
    },
    {
     "data": {
      "text/html": [
       "<pre>--------------------------------------------------------</pre>"
      ],
      "text/plain": [
       "--------------------------------------------------------"
      ]
     },
     "metadata": {},
     "output_type": "display_data"
    },
    {
     "data": {
      "text/html": [
       "<pre>+-----------+----------+-----------+--------------+-------------------+---------------------+</pre>"
      ],
      "text/plain": [
       "+-----------+----------+-----------+--------------+-------------------+---------------------+"
      ]
     },
     "metadata": {},
     "output_type": "display_data"
    },
    {
     "data": {
      "text/html": [
       "<pre>| Iteration | Passes   | Step size | Elapsed Time | Training-accuracy | Validation-accuracy |</pre>"
      ],
      "text/plain": [
       "| Iteration | Passes   | Step size | Elapsed Time | Training-accuracy | Validation-accuracy |"
      ]
     },
     "metadata": {},
     "output_type": "display_data"
    },
    {
     "data": {
      "text/html": [
       "<pre>+-----------+----------+-----------+--------------+-------------------+---------------------+</pre>"
      ],
      "text/plain": [
       "+-----------+----------+-----------+--------------+-------------------+---------------------+"
      ]
     },
     "metadata": {},
     "output_type": "display_data"
    },
    {
     "data": {
      "text/html": [
       "<pre>| 1         | 5        | 0.000006  | 1.976113     | 0.763816          | 0.728344            |</pre>"
      ],
      "text/plain": [
       "| 1         | 5        | 0.000006  | 1.976113     | 0.763816          | 0.728344            |"
      ]
     },
     "metadata": {},
     "output_type": "display_data"
    },
    {
     "data": {
      "text/html": [
       "<pre>| 2         | 7        | 1.000000  | 2.942168     | 0.859176          | 0.749647            |</pre>"
      ],
      "text/plain": [
       "| 2         | 7        | 1.000000  | 2.942168     | 0.859176          | 0.749647            |"
      ]
     },
     "metadata": {},
     "output_type": "display_data"
    },
    {
     "data": {
      "text/html": [
       "<pre>| 3         | 8        | 1.000000  | 3.587205     | 0.907196          | 0.737393            |</pre>"
      ],
      "text/plain": [
       "| 3         | 8        | 1.000000  | 3.587205     | 0.907196          | 0.737393            |"
      ]
     },
     "metadata": {},
     "output_type": "display_data"
    },
    {
     "data": {
      "text/html": [
       "<pre>| 4         | 9        | 1.000000  | 4.206240     | 0.946517          | 0.725893            |</pre>"
      ],
      "text/plain": [
       "| 4         | 9        | 1.000000  | 4.206240     | 0.946517          | 0.725893            |"
      ]
     },
     "metadata": {},
     "output_type": "display_data"
    },
    {
     "data": {
      "text/html": [
       "<pre>| 5         | 10       | 1.000000  | 5.086291     | 0.957561          | 0.735036            |</pre>"
      ],
      "text/plain": [
       "| 5         | 10       | 1.000000  | 5.086291     | 0.957561          | 0.735036            |"
      ]
     },
     "metadata": {},
     "output_type": "display_data"
    },
    {
     "data": {
      "text/html": [
       "<pre>| 6         | 11       | 1.000000  | 5.802332     | 0.967080          | 0.720615            |</pre>"
      ],
      "text/plain": [
       "| 6         | 11       | 1.000000  | 5.802332     | 0.967080          | 0.720615            |"
      ]
     },
     "metadata": {},
     "output_type": "display_data"
    },
    {
     "data": {
      "text/html": [
       "<pre>| 10        | 15       | 1.000000  | 8.420481     | 0.980891          | 0.689886            |</pre>"
      ],
      "text/plain": [
       "| 10        | 15       | 1.000000  | 8.420481     | 0.980891          | 0.689886            |"
      ]
     },
     "metadata": {},
     "output_type": "display_data"
    },
    {
     "data": {
      "text/html": [
       "<pre>+-----------+----------+-----------+--------------+-------------------+---------------------+</pre>"
      ],
      "text/plain": [
       "+-----------+----------+-----------+--------------+-------------------+---------------------+"
      ]
     },
     "metadata": {},
     "output_type": "display_data"
    },
    {
     "data": {
      "text/html": [
       "<pre>TERMINATED: Iteration limit reached.</pre>"
      ],
      "text/plain": [
       "TERMINATED: Iteration limit reached."
      ]
     },
     "metadata": {},
     "output_type": "display_data"
    },
    {
     "data": {
      "text/html": [
       "<pre>This model may not be optimal. To improve it, consider increasing `max_iterations`.</pre>"
      ],
      "text/plain": [
       "This model may not be optimal. To improve it, consider increasing `max_iterations`."
      ]
     },
     "metadata": {},
     "output_type": "display_data"
    }
   ],
   "source": [
    "## Trying a SVM model\n",
    "sentiment_model_SVM = graphlab.svm_classifier.create(train_data,\n",
    "                                                     target = 'helpful_review',\n",
    "                                                     features = ['word_count'],\n",
    "                                                     validation_set = test_data)"
   ]
  },
  {
   "cell_type": "code",
   "execution_count": 27,
   "metadata": {
    "collapsed": false
   },
   "outputs": [],
   "source": [
    "## Evaluating the model\n",
    "coefficients = sentiment_model_SVM['coefficients'] "
   ]
  },
  {
   "cell_type": "code",
   "execution_count": 28,
   "metadata": {
    "collapsed": true
   },
   "outputs": [],
   "source": [
    "# Make predictions (as margins, or class)\n",
    "predictions = sentiment_model_SVM.predict(Office_Products)    # Predicts 0/1\n",
    "predictions = sentiment_model_SVM.predict(Office_Products, output_type='margin')"
   ]
  },
  {
   "cell_type": "code",
   "execution_count": 29,
   "metadata": {
    "collapsed": true
   },
   "outputs": [],
   "source": [
    "results = sentiment_model_SVM.evaluate(Office_Products)  "
   ]
  },
  {
   "cell_type": "code",
   "execution_count": 33,
   "metadata": {
    "collapsed": false
   },
   "outputs": [
    {
     "data": {
      "text/plain": [
       "{'accuracy': 0.9229223778587254, 'confusion_matrix': Columns:\n",
       " \ttarget_label\tint\n",
       " \tpredicted_label\tint\n",
       " \tcount\tint\n",
       " \n",
       " Rows: 4\n",
       " \n",
       " Data:\n",
       " +--------------+-----------------+-------+\n",
       " | target_label | predicted_label | count |\n",
       " +--------------+-----------------+-------+\n",
       " |      1       |        0        |  2658 |\n",
       " |      0       |        1        |  1447 |\n",
       " |      0       |        0        | 36779 |\n",
       " |      1       |        1        | 12374 |\n",
       " +--------------+-----------------+-------+\n",
       " [4 rows x 3 columns], 'f1_score': 0.8577270994350674, 'precision': 0.8953042471601187, 'recall': 0.8231772219265566}"
      ]
     },
     "execution_count": 33,
     "metadata": {},
     "output_type": "execute_result"
    }
   ],
   "source": [
    "results"
   ]
  },
  {
   "cell_type": "code",
   "execution_count": 35,
   "metadata": {
    "collapsed": false
   },
   "outputs": [
    {
     "ename": "ToolkitError",
     "evalue": "Input dataset is not an SFrame. If it is a Pandas DataFrame, you may use the to_sframe() function to convert it to an SFrame.",
     "output_type": "error",
     "traceback": [
      "\u001b[1;31m---------------------------------------------------------------------------\u001b[0m",
      "\u001b[1;31mToolkitError\u001b[0m                              Traceback (most recent call last)",
      "\u001b[1;32m<ipython-input-35-3bc5aac496af>\u001b[0m in \u001b[0;36m<module>\u001b[1;34m()\u001b[0m\n\u001b[1;32m----> 1\u001b[1;33m \u001b[0mOffice_Products\u001b[0m\u001b[1;33m[\u001b[0m\u001b[1;34m'Predicted_Helpfulness'\u001b[0m\u001b[1;33m]\u001b[0m \u001b[1;33m=\u001b[0m \u001b[0msentiment_model_SVM\u001b[0m\u001b[1;33m.\u001b[0m\u001b[0mpredict\u001b[0m\u001b[1;33m(\u001b[0m\u001b[0msentiment_model_SVM\u001b[0m\u001b[1;33m,\u001b[0m \u001b[0moutput_type\u001b[0m \u001b[1;33m=\u001b[0m \u001b[1;34m'margin'\u001b[0m\u001b[1;33m)\u001b[0m\u001b[1;33m\u001b[0m\u001b[0m\n\u001b[0m",
      "\u001b[1;32mC:\\Users\\Chauncey\\Anaconda2\\envs\\dato-env\\lib\\site-packages\\graphlab\\toolkits\\classifier\\svm_classifier.pyc\u001b[0m in \u001b[0;36mpredict\u001b[1;34m(self, dataset, output_type, missing_value_action)\u001b[0m\n\u001b[0;32m    542\u001b[0m         return super(_Classifier, self).predict(dataset,\n\u001b[0;32m    543\u001b[0m                                                 \u001b[0moutput_type\u001b[0m\u001b[1;33m=\u001b[0m\u001b[0moutput_type\u001b[0m\u001b[1;33m,\u001b[0m\u001b[1;33m\u001b[0m\u001b[0m\n\u001b[1;32m--> 544\u001b[1;33m                                                 missing_value_action=missing_value_action)\n\u001b[0m\u001b[0;32m    545\u001b[0m \u001b[1;33m\u001b[0m\u001b[0m\n\u001b[0;32m    546\u001b[0m     \u001b[1;32mdef\u001b[0m \u001b[0mclassify\u001b[0m\u001b[1;33m(\u001b[0m\u001b[0mself\u001b[0m\u001b[1;33m,\u001b[0m \u001b[0mdataset\u001b[0m\u001b[1;33m,\u001b[0m \u001b[0mmissing_value_action\u001b[0m\u001b[1;33m=\u001b[0m\u001b[1;34m'auto'\u001b[0m\u001b[1;33m)\u001b[0m\u001b[1;33m:\u001b[0m\u001b[1;33m\u001b[0m\u001b[0m\n",
      "\u001b[1;32mC:\\Users\\Chauncey\\Anaconda2\\envs\\dato-env\\lib\\site-packages\\graphlab\\toolkits\\_supervised_learning.pyc\u001b[0m in \u001b[0;36mpredict\u001b[1;34m(self, dataset, missing_value_action, output_type, options, **kwargs)\u001b[0m\n\u001b[0;32m    122\u001b[0m         \u001b[1;31m# Batch predictions path\u001b[0m\u001b[1;33m\u001b[0m\u001b[1;33m\u001b[0m\u001b[0m\n\u001b[0;32m    123\u001b[0m         \u001b[1;32melse\u001b[0m\u001b[1;33m:\u001b[0m\u001b[1;33m\u001b[0m\u001b[0m\n\u001b[1;32m--> 124\u001b[1;33m             \u001b[0m_raise_error_if_not_sframe\u001b[0m\u001b[1;33m(\u001b[0m\u001b[0mdataset\u001b[0m\u001b[1;33m,\u001b[0m \u001b[1;34m\"dataset\"\u001b[0m\u001b[1;33m)\u001b[0m\u001b[1;33m\u001b[0m\u001b[0m\n\u001b[0m\u001b[0;32m    125\u001b[0m \u001b[1;33m\u001b[0m\u001b[0m\n\u001b[0;32m    126\u001b[0m             \u001b[0moptions\u001b[0m \u001b[1;33m=\u001b[0m \u001b[0moptions\u001b[0m\u001b[1;33m.\u001b[0m\u001b[0mcopy\u001b[0m\u001b[1;33m(\u001b[0m\u001b[1;33m)\u001b[0m\u001b[1;33m\u001b[0m\u001b[0m\n",
      "\u001b[1;32mC:\\Users\\Chauncey\\Anaconda2\\envs\\dato-env\\lib\\site-packages\\graphlab\\toolkits\\_internal_utils.pyc\u001b[0m in \u001b[0;36m_raise_error_if_not_sframe\u001b[1;34m(dataset, variable_name)\u001b[0m\n\u001b[0;32m    344\u001b[0m \u001b[1;33m\u001b[0m\u001b[0m\n\u001b[0;32m    345\u001b[0m     \u001b[1;32mif\u001b[0m \u001b[1;32mnot\u001b[0m \u001b[0misinstance\u001b[0m\u001b[1;33m(\u001b[0m\u001b[0mdataset\u001b[0m\u001b[1;33m,\u001b[0m \u001b[0m_SFrame\u001b[0m\u001b[1;33m)\u001b[0m\u001b[1;33m:\u001b[0m\u001b[1;33m\u001b[0m\u001b[0m\n\u001b[1;32m--> 346\u001b[1;33m       \u001b[1;32mraise\u001b[0m \u001b[0mToolkitError\u001b[0m\u001b[1;33m(\u001b[0m\u001b[0merr_msg\u001b[0m \u001b[1;33m%\u001b[0m \u001b[0mvariable_name\u001b[0m\u001b[1;33m)\u001b[0m\u001b[1;33m\u001b[0m\u001b[0m\n\u001b[0m\u001b[0;32m    347\u001b[0m \u001b[1;33m\u001b[0m\u001b[0m\n\u001b[0;32m    348\u001b[0m \u001b[1;32mdef\u001b[0m \u001b[0m_raise_error_if_sframe_empty\u001b[0m\u001b[1;33m(\u001b[0m\u001b[0mdataset\u001b[0m\u001b[1;33m,\u001b[0m \u001b[0mvariable_name\u001b[0m\u001b[1;33m=\u001b[0m\u001b[1;34m\"SFrame\"\u001b[0m\u001b[1;33m)\u001b[0m\u001b[1;33m:\u001b[0m\u001b[1;33m\u001b[0m\u001b[0m\n",
      "\u001b[1;31mToolkitError\u001b[0m: Input dataset is not an SFrame. If it is a Pandas DataFrame, you may use the to_sframe() function to convert it to an SFrame."
     ]
    }
   ],
   "source": [
    "Office_Products['Predicted_Helpfulness'] = sentiment_model_SVM.predict(sentiment_model_SVM, output_type = 'margin')"
   ]
  },
  {
   "cell_type": "code",
   "execution_count": null,
   "metadata": {
    "collapsed": true
   },
   "outputs": [],
   "source": []
  }
 ],
 "metadata": {
  "kernelspec": {
   "display_name": "Python 2",
   "language": "python",
   "name": "python2"
  },
  "language_info": {
   "codemirror_mode": {
    "name": "ipython",
    "version": 2
   },
   "file_extension": ".py",
   "mimetype": "text/x-python",
   "name": "python",
   "nbconvert_exporter": "python",
   "pygments_lexer": "ipython2",
   "version": "2.7.10"
  }
 },
 "nbformat": 4,
 "nbformat_minor": 0
}
