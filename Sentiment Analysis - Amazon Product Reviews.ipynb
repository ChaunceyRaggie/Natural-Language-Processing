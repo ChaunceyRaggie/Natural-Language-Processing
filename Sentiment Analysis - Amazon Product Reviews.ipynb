{
 "cells": [
  {
   "cell_type": "code",
   "execution_count": null,
   "metadata": {
    "collapsed": true
   },
   "outputs": [],
   "source": [
    "## Importing necessary Libraries \n",
    "import ctypes, inspect, os, graphlab\n",
    "from graphlab import SFrame\n",
    "import pandas as pd"
   ]
  },
  {
   "cell_type": "code",
   "execution_count": null,
   "metadata": {
    "collapsed": false
   },
   "outputs": [],
   "source": [
    "# This code reads the data into a graphlab Sframe. The dataset used is an Office Products dataset containing 53,257 reviews   \n",
    "# retrieved from: http://jmcauley.ucsd.edu/data/amazon/ citation: \"Image-based recommendations on styles and \n",
    "# substitutes\" J. McAuley, C. Targett, J. Shi, A. van den Hengel, SIGIR, 2015\n",
    "Office_Products = graphlab.SFrame.read_json('Office_Products_5.json', orient='lines')"
   ]
  },
  {
   "cell_type": "code",
   "execution_count": null,
   "metadata": {
    "collapsed": false
   },
   "outputs": [],
   "source": [
    "## Exploring the dataset\n",
    "Office_Products.head()"
   ]
  },
  {
   "cell_type": "code",
   "execution_count": null,
   "metadata": {
    "collapsed": false
   },
   "outputs": [],
   "source": [
    "## Counting the number of rows \n",
    "len(Office_Products)"
   ]
  },
  {
   "cell_type": "code",
   "execution_count": null,
   "metadata": {
    "collapsed": false
   },
   "outputs": [],
   "source": [
    "## Setting target as the notebook\n",
    "graphlab.canvas.set_target('ipynb')"
   ]
  },
  {
   "cell_type": "code",
   "execution_count": null,
   "metadata": {
    "collapsed": false
   },
   "outputs": [],
   "source": [
    "## Checking the rating distribution. Most reviews have a 5 rating. 30,327 votes (56.944%)\n",
    "Office_Products['overall'].show(view='Categorical') "
   ]
  },
  {
   "cell_type": "code",
   "execution_count": null,
   "metadata": {
    "collapsed": false
   },
   "outputs": [],
   "source": [
    "# building a word count vector for each review \n",
    "Office_Products['word_count'] = graphlab.text_analytics.count_words(Office_Products['reviewText'])"
   ]
  },
  {
   "cell_type": "code",
   "execution_count": null,
   "metadata": {
    "collapsed": false
   },
   "outputs": [],
   "source": [
    "# Removing all stopwords\n",
    "Office_Products['No_Stop_words'] = Office_Products['word_count'].dict_trim_by_keys(graphlab.text_analytics.stopwords(), exclude=True)\n",
    "#Removing all punctuation\n",
    "Office_Products['No_punct'] = Office_Products['No_Stop_words'].dict_trim_by_keys(['!','.',':','*','~','(2),'], exclude=True)\n",
    "#Calculating TF-IDF\n",
    "Office_Products['tfidf'] = graphlab.text_analytics.tf_idf(Office_Products['No_punct'])"
   ]
  },
  {
   "cell_type": "code",
   "execution_count": null,
   "metadata": {
    "collapsed": false
   },
   "outputs": [],
   "source": [
    "# Limiting the review data to only helpful reviews. The ‘helpful’ column contains values like ‘[x, y]’.\n",
    "# The first value represents the number of helpful votes, the second represents overall votes. \n",
    "# If at least 60% consider the review helpful, we want those reviews. A binary 1 or 0 column will identify the review as helpful or not.\n",
    "import numpy as np\n",
    "Office_Products['helpful_count'] = Office_Products['helpful'].apply(lambda x: x[0])\n",
    "Office_Products['overall_count'] = Office_Products['helpful'].apply(lambda x: x[1])\n",
    "Office_Products['helpful_percent'] = Office_Products['helpful_count'] / Office_Products['overall_count']\n",
    "Office_Products['helpful_review'] = Office_Products['helpful_percent'] >= .6\n",
    "# Removing reviews with no votes \n",
    "Office_Products = Office_Products[Office_Products['overall_count']!= 0 ]"
   ]
  },
  {
   "cell_type": "code",
   "execution_count": null,
   "metadata": {
    "collapsed": false
   },
   "outputs": [],
   "source": [
    "Office_Products.head()"
   ]
  },
  {
   "cell_type": "code",
   "execution_count": null,
   "metadata": {
    "collapsed": true
   },
   "outputs": [],
   "source": [
    "# Building the sentiment classifier. Performing a random 80/20 split to select the training and testing data.\n",
    "train_data, test_data = Office_Products.random_split(.8, seed=0)"
   ]
  },
  {
   "cell_type": "code",
   "execution_count": null,
   "metadata": {
    "collapsed": false
   },
   "outputs": [],
   "source": [
    "sentiment_model_Logist = graphlab.logistic_classifier.create(train_data,\n",
    "                                                            target = 'helpful_review',\n",
    "                                                            features = ['tfidf'],\n",
    "                                                            validation_set = test_data)"
   ]
  },
  {
   "cell_type": "code",
   "execution_count": null,
   "metadata": {
    "collapsed": false
   },
   "outputs": [],
   "source": [
    "## evaluating the model\n",
    "sentiment_model_Logist.evaluate(test_data, metric = 'roc_curve')"
   ]
  },
  {
   "cell_type": "code",
   "execution_count": null,
   "metadata": {
    "collapsed": false
   },
   "outputs": [],
   "source": [
    "# True Positive = 1189 False Negative = 1718 Accuracy = 0.685 Precision = 0.423 false Positive = 1625 True Negative = 6077 recall = 0.409\n",
    "sentiment_model_Logist.show(view = 'Evaluation')"
   ]
  },
  {
   "cell_type": "code",
   "execution_count": null,
   "metadata": {
    "collapsed": false
   },
   "outputs": [],
   "source": [
    "## Finding the ID of the most frequently reviewed item.  Value\tCount\tPercent\n",
    "# B000WU4H5C 156 reviews (0.742%)\n",
    "Office_Products['asin'].show()"
   ]
  },
  {
   "cell_type": "code",
   "execution_count": null,
   "metadata": {
    "collapsed": false
   },
   "outputs": [],
   "source": [
    "B000WU4H5C_Reviews = Office_Products[Office_Products['asin'] == 'B000WU4H5C']"
   ]
  },
  {
   "cell_type": "code",
   "execution_count": null,
   "metadata": {
    "collapsed": false
   },
   "outputs": [],
   "source": [
    "len(B000WU4H5C_Reviews)"
   ]
  },
  {
   "cell_type": "code",
   "execution_count": null,
   "metadata": {
    "collapsed": false
   },
   "outputs": [],
   "source": [
    "# Applying the Logistic Regression model to B000WU4H5C_Reviews\n",
    "B000WU4H5C_Reviews['Predicted_Helpfulness_LR'] = sentiment_model_Logist.predict(B000WU4H5C_Reviews, output_type = 'probability')"
   ]
  },
  {
   "cell_type": "code",
   "execution_count": null,
   "metadata": {
    "collapsed": false,
    "scrolled": true
   },
   "outputs": [],
   "source": [
    "B000WU4H5C_Reviews.head()"
   ]
  },
  {
   "cell_type": "code",
   "execution_count": null,
   "metadata": {
    "collapsed": false
   },
   "outputs": [],
   "source": [
    "## Sorting reviews based on the predicted sentiment \n",
    "B000WU4H5C_Reviews = B000WU4H5C_Reviews.sort('Predicted_Helpfulness_LR', ascending =False)"
   ]
  },
  {
   "cell_type": "code",
   "execution_count": null,
   "metadata": {
    "collapsed": false
   },
   "outputs": [],
   "source": [
    "B000WU4H5C_Reviews.head()"
   ]
  },
  {
   "cell_type": "code",
   "execution_count": null,
   "metadata": {
    "collapsed": false
   },
   "outputs": [],
   "source": [
    "B000WU4H5C_Reviews[0]['reviewText']"
   ]
  },
  {
   "cell_type": "code",
   "execution_count": null,
   "metadata": {
    "collapsed": false
   },
   "outputs": [],
   "source": [
    "B000WU4H5C_Reviews[-1]['reviewText']"
   ]
  },
  {
   "cell_type": "code",
   "execution_count": null,
   "metadata": {
    "collapsed": false
   },
   "outputs": [],
   "source": [
    "B000WU4H5C_Reviews[0]['summary']"
   ]
  },
  {
   "cell_type": "code",
   "execution_count": null,
   "metadata": {
    "collapsed": false
   },
   "outputs": [],
   "source": [
    "B000WU4H5C_Reviews[-1]['summary']"
   ]
  },
  {
   "cell_type": "code",
   "execution_count": null,
   "metadata": {
    "collapsed": false
   },
   "outputs": [],
   "source": [
    "## Trying a SVM model\n",
    "sentiment_model_SVM = graphlab.svm_classifier.create(train_data,\n",
    "                                                     target = 'helpful_review',\n",
    "                                                     features = ['tfidf'],\n",
    "                                                     validation_set = test_data)"
   ]
  },
  {
   "cell_type": "code",
   "execution_count": null,
   "metadata": {
    "collapsed": false
   },
   "outputs": [],
   "source": [
    "## Evaluating the model\n",
    "coefficients = sentiment_model_SVM['coefficients']"
   ]
  },
  {
   "cell_type": "code",
   "execution_count": null,
   "metadata": {
    "collapsed": false
   },
   "outputs": [],
   "source": [
    "# Make predictions (as margins, or class)\n",
    "predictions = sentiment_model_SVM.predict(Office_Products)    # Predicts 0/1\n",
    "predictions = sentiment_model_SVM.predict(Office_Products, output_type='margin')"
   ]
  },
  {
   "cell_type": "code",
   "execution_count": null,
   "metadata": {
    "collapsed": false
   },
   "outputs": [],
   "source": [
    "results = sentiment_model_SVM.evaluate(Office_Products)"
   ]
  },
  {
   "cell_type": "code",
   "execution_count": null,
   "metadata": {
    "collapsed": false
   },
   "outputs": [],
   "source": [
    "results"
   ]
  },
  {
   "cell_type": "code",
   "execution_count": null,
   "metadata": {
    "collapsed": false
   },
   "outputs": [],
   "source": [
    "# Applying the SVM model to B000WU4H5C_Reviews. Note: SVM does not currently support predictions as probability estimates.\n",
    "B000WU4H5C_Reviews['Predicted_Helpfulness_SVM'] = sentiment_model_SVM.predict(B000WU4H5C_Reviews, output_type = 'class')"
   ]
  },
  {
   "cell_type": "code",
   "execution_count": null,
   "metadata": {
    "collapsed": false
   },
   "outputs": [],
   "source": [
    "B000WU4H5C_Reviews.head()"
   ]
  },
  {
   "cell_type": "code",
   "execution_count": null,
   "metadata": {
    "collapsed": false
   },
   "outputs": [],
   "source": [
    "## Sorting reviews based on the predicted sentiment \n",
    "B000WU4H5C_Reviews = B000WU4H5C_Reviews.sort('Predicted_Helpfulness_SVM', ascending =False)"
   ]
  },
  {
   "cell_type": "code",
   "execution_count": null,
   "metadata": {
    "collapsed": false
   },
   "outputs": [],
   "source": [
    "B000WU4H5C_Reviews[0]['reviewText']"
   ]
  },
  {
   "cell_type": "code",
   "execution_count": null,
   "metadata": {
    "collapsed": false
   },
   "outputs": [],
   "source": [
    "B000WU4H5C_Reviews[-1]['reviewText']"
   ]
  },
  {
   "cell_type": "code",
   "execution_count": null,
   "metadata": {
    "collapsed": false
   },
   "outputs": [],
   "source": [
    "B000WU4H5C_Reviews.head()"
   ]
  },
  {
   "cell_type": "code",
   "execution_count": null,
   "metadata": {
    "collapsed": false
   },
   "outputs": [],
   "source": [
    "B000WU4H5C_Reviews[1]['reviewText']"
   ]
  },
  {
   "cell_type": "code",
   "execution_count": null,
   "metadata": {
    "collapsed": false
   },
   "outputs": [],
   "source": [
    "B000WU4H5C_Reviews[2]['reviewText']"
   ]
  },
  {
   "cell_type": "code",
   "execution_count": null,
   "metadata": {
    "collapsed": false
   },
   "outputs": [],
   "source": [
    "B000WU4H5C_Reviews[3]['reviewText']"
   ]
  },
  {
   "cell_type": "code",
   "execution_count": null,
   "metadata": {
    "collapsed": false
   },
   "outputs": [],
   "source": [
    "Office_Products['tfidf'] = graphlab.text_analytics.tf_idf(Office_Products['No_Stop_words'])\n"
   ]
  },
  {
   "cell_type": "code",
   "execution_count": null,
   "metadata": {
    "collapsed": false
   },
   "outputs": [],
   "source": [
    "Office_Products.head()"
   ]
  },
  {
   "cell_type": "code",
   "execution_count": null,
   "metadata": {
    "collapsed": false
   },
   "outputs": [],
   "source": [
    "Office_Products[['tfidf']].stack('tfidf', new_column_name=['word', 'tfidf']).sort('tfidf', ascending =False)"
   ]
  },
  {
   "cell_type": "code",
   "execution_count": null,
   "metadata": {
    "collapsed": true
   },
   "outputs": [],
   "source": []
  },
  {
   "cell_type": "code",
   "execution_count": null,
   "metadata": {
    "collapsed": false
   },
   "outputs": [],
   "source": []
  },
  {
   "cell_type": "code",
   "execution_count": null,
   "metadata": {
    "collapsed": false
   },
   "outputs": [],
   "source": []
  },
  {
   "cell_type": "code",
   "execution_count": null,
   "metadata": {
    "collapsed": false
   },
   "outputs": [],
   "source": []
  },
  {
   "cell_type": "code",
   "execution_count": null,
   "metadata": {
    "collapsed": false
   },
   "outputs": [],
   "source": []
  },
  {
   "cell_type": "code",
   "execution_count": null,
   "metadata": {
    "collapsed": false
   },
   "outputs": [],
   "source": []
  },
  {
   "cell_type": "code",
   "execution_count": null,
   "metadata": {
    "collapsed": false
   },
   "outputs": [],
   "source": []
  },
  {
   "cell_type": "code",
   "execution_count": null,
   "metadata": {
    "collapsed": true
   },
   "outputs": [],
   "source": []
  }
 ],
 "metadata": {
  "kernelspec": {
   "display_name": "Python 2",
   "language": "python",
   "name": "python2"
  },
  "language_info": {
   "codemirror_mode": {
    "name": "ipython",
    "version": 2
   },
   "file_extension": ".py",
   "mimetype": "text/x-python",
   "name": "python",
   "nbconvert_exporter": "python",
   "pygments_lexer": "ipython2",
   "version": "2.7.10"
  }
 },
 "nbformat": 4,
 "nbformat_minor": 0
}
