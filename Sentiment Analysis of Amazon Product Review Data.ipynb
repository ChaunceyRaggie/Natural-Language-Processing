{
 "cells": [
  {
   "cell_type": "code",
   "execution_count": 1,
   "metadata": {
    "collapsed": false
   },
   "outputs": [
    {
     "name": "stdout",
     "output_type": "stream",
     "text": [
      "C:\\Users\\Chauncey\n"
     ]
    }
   ],
   "source": [
    "import os\n",
    "print os.getcwd()"
   ]
  },
  {
   "cell_type": "code",
   "execution_count": 54,
   "metadata": {
    "collapsed": true
   },
   "outputs": [],
   "source": [
    "# Importing the necessary libraries\n",
    "import numpy as np\n",
    "import matplotlib.pyplot as plt\n",
    "import pandas as pd\n",
    "import nltk\n",
    "import sklearn\n",
    "import random\n",
    "from nltk.corpus import stopwords\n",
    "from nltk.tokenize import word_tokenize\n",
    "from sklearn import svm"
   ]
  },
  {
   "cell_type": "code",
   "execution_count": 3,
   "metadata": {
    "collapsed": true
   },
   "outputs": [],
   "source": [
    "# This code reads the data into a pandas data frame. The dataset used is an Office Products dataset containing 53,257 reviews   \n",
    "# retrieved from: http://jmcauley.ucsd.edu/data/amazon/ citation: \"Image-based recommendations on styles and \n",
    "# substitutes\" J. McAuley, C. Targett, J. Shi, A. van den Hengel, SIGIR, 2015\n",
    "\n",
    "def parse(path):\n",
    "#  opens a binary file in read or write mode.    \n",
    "  g = open(path, 'rb')\n",
    "  for l in g:\n",
    "    yield eval(l)\n",
    "\n",
    "def getDF(path):\n",
    "  i = 0\n",
    "  df = {}\n",
    "  for d in parse(path):\n",
    "    df[i] = d\n",
    "    i += 1\n",
    "  return pd.DataFrame.from_dict(df, orient='index')\n",
    "\n",
    "df_review_data = getDF('Office_Products_5.json')\n"
   ]
  },
  {
   "cell_type": "code",
   "execution_count": 32,
   "metadata": {
    "collapsed": false
   },
   "outputs": [
    {
     "name": "stdout",
     "output_type": "stream",
     "text": [
      "       reviewerID        asin         reviewerName helpful  unixReviewTime  \\\n",
      "0  A32T2H8150OJLU  B00000JBLH                  ARH  [3, 4]      1094169600   \n",
      "1  A3MAFS04ZABRGO  B00000JBLH     Let it Be \"Alan\"  [7, 9]      1197676800   \n",
      "2  A1F1A0QQP2XVH5  B00000JBLH               Mark B  [3, 3]      1293840000   \n",
      "3   A49R5DBXXQDE5  B00000JBLH         R. D Johnson  [7, 8]      1145404800   \n",
      "4  A2XRMQA6PJ5ZJ8  B00000JBLH  Roger J. Buffington  [0, 0]      1375574400   \n",
      "\n",
      "                                          reviewText  overall   reviewTime  \\\n",
      "0  I bought my first HP12C in about 1984 or so, a...        5   09 3, 2004   \n",
      "1  WHY THIS BELATED REVIEW? I feel very obliged t...        5  12 15, 2007   \n",
      "2  I have an HP 48GX that has been kicking for mo...        2   01 1, 2011   \n",
      "3  I've started doing more finance stuff recently...        5  04 19, 2006   \n",
      "4  For simple calculations and discounted cash fl...        5   08 4, 2013   \n",
      "\n",
      "                                             summary  helpful_count  \\\n",
      "0            A solid performer, and long time friend              3   \n",
      "1  Price of GOLD is up, so don't bury the golden ...              7   \n",
      "2   Good functionality, but not durable like old HPs              3   \n",
      "3       One of the last of an almost extinct species              7   \n",
      "4                                     Still the best              0   \n",
      "\n",
      "   overall_count  helpful_percent helpful_review  \n",
      "0              4         0.750000            Yes  \n",
      "1              9         0.777778            Yes  \n",
      "2              3         1.000000            Yes  \n",
      "3              8         0.875000            Yes  \n",
      "4              0              NaN             No  \n"
     ]
    },
    {
     "data": {
      "text/plain": [
       "53258"
      ]
     },
     "execution_count": 32,
     "metadata": {},
     "output_type": "execute_result"
    }
   ],
   "source": [
    "# Exploring the dataset\n",
    "print(df_review_data.head(5))\n",
    "len(df_review_data)"
   ]
  },
  {
   "cell_type": "code",
   "execution_count": 5,
   "metadata": {
    "collapsed": false,
    "scrolled": true
   },
   "outputs": [
    {
     "name": "stdout",
     "output_type": "stream",
     "text": [
      "           reviewerID        asin  \\\n",
      "53253  A1ODOGXEYECQQ8  B00KYA0RC2   \n",
      "53254  A2XX2A4OJCDNLZ  B00KYA0RC2   \n",
      "53255  A3LGT6UZL99IW1  B00KYA0RC2   \n",
      "53256  A1XJOSJN6FHFO0  B00KYA0RC2   \n",
      "53257   AAEVGE52KL0DJ  B00KYA0RC2   \n",
      "\n",
      "                                           reviewerName helpful  \\\n",
      "53253                                            Nuknuk  [0, 0]   \n",
      "53254                               RatherLiveInKeyWest  [2, 2]   \n",
      "53255  Richard C. Drew \"Anaal Nathra/Uthe vas Bethod...  [1, 1]   \n",
      "53256  Shirley Priscilla  Johnson \"Author/Reviewer -...  [0, 0]   \n",
      "53257                                               Tim  [3, 4]   \n",
      "\n",
      "       unixReviewTime                                         reviewText  \\\n",
      "53253      1405555200  What I like about this scale is you can power ...   \n",
      "53254      1405296000  This Accuteck ShipPro digital scale works very...   \n",
      "53255      1405468800  I ship a lot of stuff.  I sell small parts, ma...   \n",
      "53256      1405814400  This is a great little scale to have. It can w...   \n",
      "53257      1404604800  When asked to review this scale, I almost decl...   \n",
      "\n",
      "       overall   reviewTime                                            summary  \n",
      "53253        4  07 17, 2014                      Portable and very easy to use  \n",
      "53254        5  07 14, 2014  Accuteck ShipPro Digital Postal Scale - Stand-...  \n",
      "53255        5  07 16, 2014  Extremely accurate, foolproof postal/shipping ...  \n",
      "53256        5  07 20, 2014                            Fast, Easy and Accurate  \n",
      "53257        4   07 6, 2014                 Great Value on a Good Postal Scale  \n"
     ]
    }
   ],
   "source": [
    "print(df_review_data.tail(5))"
   ]
  },
  {
   "cell_type": "code",
   "execution_count": 50,
   "metadata": {
    "collapsed": true
   },
   "outputs": [],
   "source": [
    "# Limiting the review data to only helpful reviews. The ‘helpful’ column contains values like ‘[x, y]’.\n",
    "# The first value represents the number of helpful votes, the second represents overall votes. \n",
    "# If at least 50% consider the review helpful, we want those reviews.\n",
    "\n",
    "df_review_data['helpful_count'] = df_review_data.helpful.apply(lambda x: x[0])\n",
    "df_review_data['overall_count'] = df_review_data.helpful.apply(lambda x: x[1])\n",
    "df_review_data['helpful_percent'] = df_review_data['helpful_count'] / df_review_data['overall_count']\n",
    "df_review_data['helpful_review'] = np.where((df_review_data.helpful_percent > .5) & (df_review_data.helpful_count > 1), \"Yes\", \"No\")\n",
    "helpful_reviews = df_review_data[df_review_data['helpful_review']=='Yes']"
   ]
  },
  {
   "cell_type": "code",
   "execution_count": 51,
   "metadata": {
    "collapsed": false,
    "scrolled": false
   },
   "outputs": [
    {
     "name": "stderr",
     "output_type": "stream",
     "text": [
      "C:\\Users\\Chauncey\\Anaconda2\\envs\\dato-env\\lib\\site-packages\\IPython\\kernel\\__main__.py:1: SettingWithCopyWarning: \n",
      "A value is trying to be set on a copy of a slice from a DataFrame.\n",
      "Try using .loc[row_indexer,col_indexer] = value instead\n",
      "\n",
      "See the the caveats in the documentation: http://pandas.pydata.org/pandas-docs/stable/indexing.html#indexing-view-versus-copy\n",
      "  if __name__ == '__main__':\n"
     ]
    }
   ],
   "source": [
    "#Tokenization \n",
    "helpful_reviews['tokenized_review_data'] = helpful_reviews['reviewText'].apply(nltk.word_tokenize)\n"
   ]
  },
  {
   "cell_type": "code",
   "execution_count": 52,
   "metadata": {
    "collapsed": false
   },
   "outputs": [
    {
     "name": "stdout",
     "output_type": "stream",
     "text": [
      "       reviewerID        asin       reviewerName   helpful  unixReviewTime  \\\n",
      "0  A32T2H8150OJLU  B00000JBLH                ARH    [3, 4]      1094169600   \n",
      "1  A3MAFS04ZABRGO  B00000JBLH   Let it Be \"Alan\"    [7, 9]      1197676800   \n",
      "2  A1F1A0QQP2XVH5  B00000JBLH             Mark B    [3, 3]      1293840000   \n",
      "3   A49R5DBXXQDE5  B00000JBLH       R. D Johnson    [7, 8]      1145404800   \n",
      "5  A2JFOHC9W629IE  B00000JBLH  scott_from_dallas  [10, 12]      1011744000   \n",
      "\n",
      "                                          reviewText  overall   reviewTime  \\\n",
      "0  I bought my first HP12C in about 1984 or so, a...        5   09 3, 2004   \n",
      "1  WHY THIS BELATED REVIEW? I feel very obliged t...        5  12 15, 2007   \n",
      "2  I have an HP 48GX that has been kicking for mo...        2   01 1, 2011   \n",
      "3  I've started doing more finance stuff recently...        5  04 19, 2006   \n",
      "5  While I don't have an MBA, it's hard to believ...        5  01 23, 2002   \n",
      "\n",
      "                                             summary  helpful_count  \\\n",
      "0            A solid performer, and long time friend              3   \n",
      "1  Price of GOLD is up, so don't bury the golden ...              7   \n",
      "2   Good functionality, but not durable like old HPs              3   \n",
      "3       One of the last of an almost extinct species              7   \n",
      "5          Every MBA student and grad should get one             10   \n",
      "\n",
      "   overall_count  helpful_percent helpful_review  \\\n",
      "0              4         0.750000            Yes   \n",
      "1              9         0.777778            Yes   \n",
      "2              3         1.000000            Yes   \n",
      "3              8         0.875000            Yes   \n",
      "5             12         0.833333            Yes   \n",
      "\n",
      "                               tokenized_review_data sentiment  \n",
      "0  [I, bought, my, first, HP12C, in, about, 1984,...      True  \n",
      "1  [WHY, THIS, BELATED, REVIEW, ?, I, feel, very,...      True  \n",
      "2  [I, have, an, HP, 48GX, that, has, been, kicki...     False  \n",
      "3  [I, 've, started, doing, more, finance, stuff,...      True  \n",
      "5  [While, I, do, n't, have, an, MBA, ,, it, 's, ...      True  \n"
     ]
    },
    {
     "data": {
      "text/plain": [
       "7542"
      ]
     },
     "execution_count": 52,
     "metadata": {},
     "output_type": "execute_result"
    }
   ],
   "source": [
    "# Building the sentiment Classifier \n",
    "# Define positive and negative sentiment 4 and 5 star reviews = positive sentiment, ignore all reviews with a rating of 3\n",
    "# and using reviews with 1 and 2 stars to represent negative sentiment \n",
    "helpful_reviews = helpful_reviews[helpful_reviews['overall']!= 3.0]\n",
    "# Binary colmmn true or false. Is it greater than or equal to 4\n",
    "helpful_reviews['sentiment'] = helpful_reviews['overall'] >=4\n",
    "print(helpful_reviews.head(5))\n",
    "len(helpful_reviews)"
   ]
  },
  {
   "cell_type": "code",
   "execution_count": 60,
   "metadata": {
    "collapsed": false
   },
   "outputs": [],
   "source": [
    "# Training the sentiment classifier \n",
    "helpful_reviews['sentiment'] = pd.DataFrame(np.random.randn(7542, 1508))\n",
    "msk = np.random.rand(len(helpful_reviews['sentiment'])) < 0.8\n",
    "train_data = helpful_reviews['sentiment'][msk]\n",
    "test_data = helpful_reviews['sentiment'][~msk]"
   ]
  },
  {
   "cell_type": "code",
   "execution_count": 61,
   "metadata": {
    "collapsed": false
   },
   "outputs": [
    {
     "data": {
      "text/plain": [
       "1529"
      ]
     },
     "execution_count": 61,
     "metadata": {},
     "output_type": "execute_result"
    }
   ],
   "source": [
    "len(test_data)"
   ]
  },
  {
   "cell_type": "code",
   "execution_count": 62,
   "metadata": {
    "collapsed": false
   },
   "outputs": [
    {
     "data": {
      "text/plain": [
       "6013"
      ]
     },
     "execution_count": 62,
     "metadata": {},
     "output_type": "execute_result"
    }
   ],
   "source": [
    "len(train_data)"
   ]
  },
  {
   "cell_type": "code",
   "execution_count": 65,
   "metadata": {
    "collapsed": false
   },
   "outputs": [
    {
     "ename": "ValueError",
     "evalue": "setting an array element with a sequence.",
     "output_type": "error",
     "traceback": [
      "\u001b[1;31m---------------------------------------------------------------------------\u001b[0m",
      "\u001b[1;31mValueError\u001b[0m                                Traceback (most recent call last)",
      "\u001b[1;32m<ipython-input-65-94b891ef8b4a>\u001b[0m in \u001b[0;36m<module>\u001b[1;34m()\u001b[0m\n\u001b[0;32m      2\u001b[0m \u001b[0mx\u001b[0m\u001b[1;33m,\u001b[0m \u001b[0my\u001b[0m \u001b[1;33m=\u001b[0m \u001b[0mhelpful_reviews\u001b[0m\u001b[1;33m[\u001b[0m\u001b[1;34m'tokenized_review_data'\u001b[0m\u001b[1;33m]\u001b[0m\u001b[1;33m[\u001b[0m\u001b[1;33m:\u001b[0m\u001b[1;33m-\u001b[0m\u001b[1;36m1\u001b[0m\u001b[1;33m]\u001b[0m\u001b[1;33m,\u001b[0m \u001b[0mhelpful_reviews\u001b[0m\u001b[1;33m[\u001b[0m\u001b[1;34m'sentiment'\u001b[0m\u001b[1;33m]\u001b[0m\u001b[1;33m[\u001b[0m\u001b[1;33m:\u001b[0m\u001b[1;33m-\u001b[0m\u001b[1;36m1\u001b[0m\u001b[1;33m]\u001b[0m\u001b[1;33m\u001b[0m\u001b[0m\n\u001b[0;32m      3\u001b[0m \u001b[1;33m\u001b[0m\u001b[0m\n\u001b[1;32m----> 4\u001b[1;33m \u001b[0mclf\u001b[0m\u001b[1;33m.\u001b[0m\u001b[0mfit\u001b[0m\u001b[1;33m(\u001b[0m\u001b[0mx\u001b[0m\u001b[1;33m,\u001b[0m \u001b[0my\u001b[0m\u001b[1;33m)\u001b[0m\u001b[1;33m\u001b[0m\u001b[0m\n\u001b[0m\u001b[0;32m      5\u001b[0m \u001b[1;33m\u001b[0m\u001b[0m\n\u001b[0;32m      6\u001b[0m \u001b[1;32mprint\u001b[0m\u001b[1;33m(\u001b[0m\u001b[1;34m'Prediction:'\u001b[0m\u001b[1;33m,\u001b[0m\u001b[0mclf\u001b[0m\u001b[1;33m.\u001b[0m\u001b[0mpredict\u001b[0m\u001b[1;33m(\u001b[0m\u001b[0mhelpful_reviews\u001b[0m\u001b[1;33m[\u001b[0m\u001b[1;34m'tokenized_review_data'\u001b[0m\u001b[1;33m]\u001b[0m\u001b[1;33m[\u001b[0m\u001b[1;33m:\u001b[0m\u001b[1;33m-\u001b[0m\u001b[1;36m1\u001b[0m\u001b[1;33m]\u001b[0m\u001b[1;33m)\u001b[0m\u001b[1;33m)\u001b[0m\u001b[1;33m\u001b[0m\u001b[0m\n",
      "\u001b[1;32mC:\\Users\\Chauncey\\Anaconda2\\envs\\dato-env\\lib\\site-packages\\sklearn\\svm\\base.pyc\u001b[0m in \u001b[0;36mfit\u001b[1;34m(self, X, y, sample_weight)\u001b[0m\n\u001b[0;32m    137\u001b[0m         \u001b[0mself\u001b[0m\u001b[1;33m.\u001b[0m\u001b[0m_sparse\u001b[0m \u001b[1;33m=\u001b[0m \u001b[0msparse\u001b[0m \u001b[1;32mand\u001b[0m \u001b[1;32mnot\u001b[0m \u001b[0mcallable\u001b[0m\u001b[1;33m(\u001b[0m\u001b[0mself\u001b[0m\u001b[1;33m.\u001b[0m\u001b[0mkernel\u001b[0m\u001b[1;33m)\u001b[0m\u001b[1;33m\u001b[0m\u001b[0m\n\u001b[0;32m    138\u001b[0m \u001b[1;33m\u001b[0m\u001b[0m\n\u001b[1;32m--> 139\u001b[1;33m         \u001b[0mX\u001b[0m \u001b[1;33m=\u001b[0m \u001b[0mcheck_array\u001b[0m\u001b[1;33m(\u001b[0m\u001b[0mX\u001b[0m\u001b[1;33m,\u001b[0m \u001b[0maccept_sparse\u001b[0m\u001b[1;33m=\u001b[0m\u001b[1;34m'csr'\u001b[0m\u001b[1;33m,\u001b[0m \u001b[0mdtype\u001b[0m\u001b[1;33m=\u001b[0m\u001b[0mnp\u001b[0m\u001b[1;33m.\u001b[0m\u001b[0mfloat64\u001b[0m\u001b[1;33m,\u001b[0m \u001b[0morder\u001b[0m\u001b[1;33m=\u001b[0m\u001b[1;34m'C'\u001b[0m\u001b[1;33m)\u001b[0m\u001b[1;33m\u001b[0m\u001b[0m\n\u001b[0m\u001b[0;32m    140\u001b[0m         \u001b[0my\u001b[0m \u001b[1;33m=\u001b[0m \u001b[0mself\u001b[0m\u001b[1;33m.\u001b[0m\u001b[0m_validate_targets\u001b[0m\u001b[1;33m(\u001b[0m\u001b[0my\u001b[0m\u001b[1;33m)\u001b[0m\u001b[1;33m\u001b[0m\u001b[0m\n\u001b[0;32m    141\u001b[0m \u001b[1;33m\u001b[0m\u001b[0m\n",
      "\u001b[1;32mC:\\Users\\Chauncey\\Anaconda2\\envs\\dato-env\\lib\\site-packages\\sklearn\\utils\\validation.pyc\u001b[0m in \u001b[0;36mcheck_array\u001b[1;34m(array, accept_sparse, dtype, order, copy, force_all_finite, ensure_2d, allow_nd, ensure_min_samples, ensure_min_features)\u001b[0m\n\u001b[0;32m    342\u001b[0m             \u001b[1;32melse\u001b[0m\u001b[1;33m:\u001b[0m\u001b[1;33m\u001b[0m\u001b[0m\n\u001b[0;32m    343\u001b[0m                 \u001b[0mdtype\u001b[0m \u001b[1;33m=\u001b[0m \u001b[0mNone\u001b[0m\u001b[1;33m\u001b[0m\u001b[0m\n\u001b[1;32m--> 344\u001b[1;33m         \u001b[0marray\u001b[0m \u001b[1;33m=\u001b[0m \u001b[0mnp\u001b[0m\u001b[1;33m.\u001b[0m\u001b[0marray\u001b[0m\u001b[1;33m(\u001b[0m\u001b[0marray\u001b[0m\u001b[1;33m,\u001b[0m \u001b[0mdtype\u001b[0m\u001b[1;33m=\u001b[0m\u001b[0mdtype\u001b[0m\u001b[1;33m,\u001b[0m \u001b[0morder\u001b[0m\u001b[1;33m=\u001b[0m\u001b[0morder\u001b[0m\u001b[1;33m,\u001b[0m \u001b[0mcopy\u001b[0m\u001b[1;33m=\u001b[0m\u001b[0mcopy\u001b[0m\u001b[1;33m)\u001b[0m\u001b[1;33m\u001b[0m\u001b[0m\n\u001b[0m\u001b[0;32m    345\u001b[0m         \u001b[1;31m# make sure we actually converted to numeric:\u001b[0m\u001b[1;33m\u001b[0m\u001b[1;33m\u001b[0m\u001b[0m\n\u001b[0;32m    346\u001b[0m         \u001b[1;32mif\u001b[0m \u001b[0mdtype_numeric\u001b[0m \u001b[1;32mand\u001b[0m \u001b[0marray\u001b[0m\u001b[1;33m.\u001b[0m\u001b[0mdtype\u001b[0m\u001b[1;33m.\u001b[0m\u001b[0mkind\u001b[0m \u001b[1;33m==\u001b[0m \u001b[1;34m\"O\"\u001b[0m\u001b[1;33m:\u001b[0m\u001b[1;33m\u001b[0m\u001b[0m\n",
      "\u001b[1;31mValueError\u001b[0m: setting an array element with a sequence."
     ]
    }
   ],
   "source": [
    "clf = svm.SVC(gamma=0.001, C=100)\n",
    "x, y = helpful_reviews['tokenized_review_data'][:-1], helpful_reviews['sentiment'][:-1]\n",
    "\n",
    "clf.fit(x, y)\n",
    "\n",
    "print('Prediction:',clf.predict(helpful_reviews['tokenized_review_data'][:-1]))"
   ]
  },
  {
   "cell_type": "code",
   "execution_count": null,
   "metadata": {
    "collapsed": true
   },
   "outputs": [],
   "source": []
  }
 ],
 "metadata": {
  "kernelspec": {
   "display_name": "Python 2",
   "language": "python",
   "name": "python2"
  },
  "language_info": {
   "codemirror_mode": {
    "name": "ipython",
    "version": 2
   },
   "file_extension": ".py",
   "mimetype": "text/x-python",
   "name": "python",
   "nbconvert_exporter": "python",
   "pygments_lexer": "ipython2",
   "version": "2.7.10"
  }
 },
 "nbformat": 4,
 "nbformat_minor": 0
}
